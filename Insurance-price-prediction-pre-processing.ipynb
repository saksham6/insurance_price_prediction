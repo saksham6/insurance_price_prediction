{
 "cells": [
  {
   "cell_type": "code",
   "execution_count": 1,
   "id": "center-johns",
   "metadata": {},
   "outputs": [],
   "source": [
    "import pandas as pd\n",
    "import matplotlib.pyplot as plt\n",
    "%matplotlib inline\n",
    "import seaborn as sns\n",
    "import numpy as np\n",
    "from sklearn.cluster import KMeans"
   ]
  },
  {
   "cell_type": "code",
   "execution_count": 2,
   "id": "bibliographic-athens",
   "metadata": {},
   "outputs": [],
   "source": [
    "df=pd.read_csv(\"Data.csv\")"
   ]
  },
  {
   "cell_type": "code",
   "execution_count": 3,
   "id": "uniform-traffic",
   "metadata": {},
   "outputs": [
    {
     "data": {
      "text/html": [
       "<div>\n",
       "<style scoped>\n",
       "    .dataframe tbody tr th:only-of-type {\n",
       "        vertical-align: middle;\n",
       "    }\n",
       "\n",
       "    .dataframe tbody tr th {\n",
       "        vertical-align: top;\n",
       "    }\n",
       "\n",
       "    .dataframe thead th {\n",
       "        text-align: right;\n",
       "    }\n",
       "</style>\n",
       "<table border=\"1\" class=\"dataframe\">\n",
       "  <thead>\n",
       "    <tr style=\"text-align: right;\">\n",
       "      <th></th>\n",
       "      <th>applicant_id</th>\n",
       "      <th>years_of_insurance_with_us</th>\n",
       "      <th>regular_checkup_lasy_year</th>\n",
       "      <th>adventure_sports</th>\n",
       "      <th>Occupation</th>\n",
       "      <th>visited_doctor_last_1_year</th>\n",
       "      <th>cholesterol_level</th>\n",
       "      <th>daily_avg_steps</th>\n",
       "      <th>age</th>\n",
       "      <th>heart_decs_history</th>\n",
       "      <th>...</th>\n",
       "      <th>smoking_status</th>\n",
       "      <th>Year_last_admitted</th>\n",
       "      <th>Location</th>\n",
       "      <th>weight</th>\n",
       "      <th>covered_by_any_other_company</th>\n",
       "      <th>Alcohol</th>\n",
       "      <th>exercise</th>\n",
       "      <th>weight_change_in_last_one_year</th>\n",
       "      <th>fat_percentage</th>\n",
       "      <th>insurance_cost</th>\n",
       "    </tr>\n",
       "  </thead>\n",
       "  <tbody>\n",
       "    <tr>\n",
       "      <th>0</th>\n",
       "      <td>5000</td>\n",
       "      <td>3</td>\n",
       "      <td>1</td>\n",
       "      <td>1</td>\n",
       "      <td>Salried</td>\n",
       "      <td>2</td>\n",
       "      <td>125 to 150</td>\n",
       "      <td>4866</td>\n",
       "      <td>28</td>\n",
       "      <td>1</td>\n",
       "      <td>...</td>\n",
       "      <td>Unknown</td>\n",
       "      <td>NaN</td>\n",
       "      <td>Chennai</td>\n",
       "      <td>67</td>\n",
       "      <td>N</td>\n",
       "      <td>Rare</td>\n",
       "      <td>Moderate</td>\n",
       "      <td>1</td>\n",
       "      <td>25</td>\n",
       "      <td>20978</td>\n",
       "    </tr>\n",
       "    <tr>\n",
       "      <th>1</th>\n",
       "      <td>5001</td>\n",
       "      <td>0</td>\n",
       "      <td>0</td>\n",
       "      <td>0</td>\n",
       "      <td>Student</td>\n",
       "      <td>4</td>\n",
       "      <td>150 to 175</td>\n",
       "      <td>6411</td>\n",
       "      <td>50</td>\n",
       "      <td>0</td>\n",
       "      <td>...</td>\n",
       "      <td>formerly smoked</td>\n",
       "      <td>NaN</td>\n",
       "      <td>Jaipur</td>\n",
       "      <td>58</td>\n",
       "      <td>N</td>\n",
       "      <td>Rare</td>\n",
       "      <td>Moderate</td>\n",
       "      <td>3</td>\n",
       "      <td>27</td>\n",
       "      <td>6170</td>\n",
       "    </tr>\n",
       "    <tr>\n",
       "      <th>2</th>\n",
       "      <td>5002</td>\n",
       "      <td>1</td>\n",
       "      <td>0</td>\n",
       "      <td>0</td>\n",
       "      <td>Business</td>\n",
       "      <td>4</td>\n",
       "      <td>200 to 225</td>\n",
       "      <td>4509</td>\n",
       "      <td>68</td>\n",
       "      <td>0</td>\n",
       "      <td>...</td>\n",
       "      <td>formerly smoked</td>\n",
       "      <td>NaN</td>\n",
       "      <td>Jaipur</td>\n",
       "      <td>73</td>\n",
       "      <td>N</td>\n",
       "      <td>Daily</td>\n",
       "      <td>Extreme</td>\n",
       "      <td>0</td>\n",
       "      <td>32</td>\n",
       "      <td>28382</td>\n",
       "    </tr>\n",
       "    <tr>\n",
       "      <th>3</th>\n",
       "      <td>5003</td>\n",
       "      <td>7</td>\n",
       "      <td>4</td>\n",
       "      <td>0</td>\n",
       "      <td>Business</td>\n",
       "      <td>2</td>\n",
       "      <td>175 to 200</td>\n",
       "      <td>6214</td>\n",
       "      <td>51</td>\n",
       "      <td>0</td>\n",
       "      <td>...</td>\n",
       "      <td>Unknown</td>\n",
       "      <td>NaN</td>\n",
       "      <td>Chennai</td>\n",
       "      <td>71</td>\n",
       "      <td>Y</td>\n",
       "      <td>Rare</td>\n",
       "      <td>No</td>\n",
       "      <td>3</td>\n",
       "      <td>37</td>\n",
       "      <td>27148</td>\n",
       "    </tr>\n",
       "    <tr>\n",
       "      <th>4</th>\n",
       "      <td>5004</td>\n",
       "      <td>3</td>\n",
       "      <td>1</td>\n",
       "      <td>0</td>\n",
       "      <td>Student</td>\n",
       "      <td>2</td>\n",
       "      <td>150 to 175</td>\n",
       "      <td>4938</td>\n",
       "      <td>44</td>\n",
       "      <td>0</td>\n",
       "      <td>...</td>\n",
       "      <td>never smoked</td>\n",
       "      <td>2004.0</td>\n",
       "      <td>Bangalore</td>\n",
       "      <td>74</td>\n",
       "      <td>N</td>\n",
       "      <td>No</td>\n",
       "      <td>Extreme</td>\n",
       "      <td>0</td>\n",
       "      <td>34</td>\n",
       "      <td>29616</td>\n",
       "    </tr>\n",
       "  </tbody>\n",
       "</table>\n",
       "<p>5 rows × 24 columns</p>\n",
       "</div>"
      ],
      "text/plain": [
       "   applicant_id  years_of_insurance_with_us  regular_checkup_lasy_year  \\\n",
       "0          5000                           3                          1   \n",
       "1          5001                           0                          0   \n",
       "2          5002                           1                          0   \n",
       "3          5003                           7                          4   \n",
       "4          5004                           3                          1   \n",
       "\n",
       "   adventure_sports Occupation  visited_doctor_last_1_year cholesterol_level  \\\n",
       "0                 1    Salried                           2        125 to 150   \n",
       "1                 0    Student                           4        150 to 175   \n",
       "2                 0   Business                           4        200 to 225   \n",
       "3                 0   Business                           2        175 to 200   \n",
       "4                 0    Student                           2        150 to 175   \n",
       "\n",
       "   daily_avg_steps  age  heart_decs_history  ...   smoking_status  \\\n",
       "0             4866   28                   1  ...          Unknown   \n",
       "1             6411   50                   0  ...  formerly smoked   \n",
       "2             4509   68                   0  ...  formerly smoked   \n",
       "3             6214   51                   0  ...          Unknown   \n",
       "4             4938   44                   0  ...     never smoked   \n",
       "\n",
       "  Year_last_admitted   Location  weight covered_by_any_other_company  Alcohol  \\\n",
       "0                NaN    Chennai      67                            N     Rare   \n",
       "1                NaN     Jaipur      58                            N     Rare   \n",
       "2                NaN     Jaipur      73                            N    Daily   \n",
       "3                NaN    Chennai      71                            Y     Rare   \n",
       "4             2004.0  Bangalore      74                            N       No   \n",
       "\n",
       "   exercise  weight_change_in_last_one_year fat_percentage insurance_cost  \n",
       "0  Moderate                               1             25          20978  \n",
       "1  Moderate                               3             27           6170  \n",
       "2   Extreme                               0             32          28382  \n",
       "3        No                               3             37          27148  \n",
       "4   Extreme                               0             34          29616  \n",
       "\n",
       "[5 rows x 24 columns]"
      ]
     },
     "execution_count": 3,
     "metadata": {},
     "output_type": "execute_result"
    }
   ],
   "source": [
    "df.head()"
   ]
  },
  {
   "cell_type": "code",
   "execution_count": 4,
   "id": "decreased-orientation",
   "metadata": {},
   "outputs": [
    {
     "name": "stdout",
     "output_type": "stream",
     "text": [
      "<class 'pandas.core.frame.DataFrame'>\n",
      "RangeIndex: 25000 entries, 0 to 24999\n",
      "Data columns (total 24 columns):\n",
      " #   Column                          Non-Null Count  Dtype  \n",
      "---  ------                          --------------  -----  \n",
      " 0   applicant_id                    25000 non-null  int64  \n",
      " 1   years_of_insurance_with_us      25000 non-null  int64  \n",
      " 2   regular_checkup_lasy_year       25000 non-null  int64  \n",
      " 3   adventure_sports                25000 non-null  int64  \n",
      " 4   Occupation                      25000 non-null  object \n",
      " 5   visited_doctor_last_1_year      25000 non-null  int64  \n",
      " 6   cholesterol_level               25000 non-null  object \n",
      " 7   daily_avg_steps                 25000 non-null  int64  \n",
      " 8   age                             25000 non-null  int64  \n",
      " 9   heart_decs_history              25000 non-null  int64  \n",
      " 10  other_major_decs_history        25000 non-null  int64  \n",
      " 11  Gender                          25000 non-null  object \n",
      " 12  avg_glucose_level               25000 non-null  int64  \n",
      " 13  bmi                             24010 non-null  float64\n",
      " 14  smoking_status                  25000 non-null  object \n",
      " 15  Year_last_admitted              13119 non-null  float64\n",
      " 16  Location                        25000 non-null  object \n",
      " 17  weight                          25000 non-null  int64  \n",
      " 18  covered_by_any_other_company    25000 non-null  object \n",
      " 19  Alcohol                         25000 non-null  object \n",
      " 20  exercise                        25000 non-null  object \n",
      " 21  weight_change_in_last_one_year  25000 non-null  int64  \n",
      " 22  fat_percentage                  25000 non-null  int64  \n",
      " 23  insurance_cost                  25000 non-null  int64  \n",
      "dtypes: float64(2), int64(14), object(8)\n",
      "memory usage: 4.6+ MB\n"
     ]
    }
   ],
   "source": [
    "df.info()"
   ]
  },
  {
   "cell_type": "code",
   "execution_count": 5,
   "id": "compound-germany",
   "metadata": {},
   "outputs": [
    {
     "data": {
      "text/html": [
       "<div>\n",
       "<style scoped>\n",
       "    .dataframe tbody tr th:only-of-type {\n",
       "        vertical-align: middle;\n",
       "    }\n",
       "\n",
       "    .dataframe tbody tr th {\n",
       "        vertical-align: top;\n",
       "    }\n",
       "\n",
       "    .dataframe thead th {\n",
       "        text-align: right;\n",
       "    }\n",
       "</style>\n",
       "<table border=\"1\" class=\"dataframe\">\n",
       "  <thead>\n",
       "    <tr style=\"text-align: right;\">\n",
       "      <th></th>\n",
       "      <th>applicant_id</th>\n",
       "      <th>years_of_insurance_with_us</th>\n",
       "      <th>regular_checkup_lasy_year</th>\n",
       "      <th>adventure_sports</th>\n",
       "      <th>visited_doctor_last_1_year</th>\n",
       "      <th>daily_avg_steps</th>\n",
       "      <th>age</th>\n",
       "      <th>heart_decs_history</th>\n",
       "      <th>other_major_decs_history</th>\n",
       "      <th>avg_glucose_level</th>\n",
       "      <th>bmi</th>\n",
       "      <th>Year_last_admitted</th>\n",
       "      <th>weight</th>\n",
       "      <th>weight_change_in_last_one_year</th>\n",
       "      <th>fat_percentage</th>\n",
       "      <th>insurance_cost</th>\n",
       "    </tr>\n",
       "  </thead>\n",
       "  <tbody>\n",
       "    <tr>\n",
       "      <th>count</th>\n",
       "      <td>25000.000000</td>\n",
       "      <td>25000.000000</td>\n",
       "      <td>25000.000000</td>\n",
       "      <td>25000.000000</td>\n",
       "      <td>25000.000000</td>\n",
       "      <td>25000.000000</td>\n",
       "      <td>25000.000000</td>\n",
       "      <td>25000.000000</td>\n",
       "      <td>25000.000000</td>\n",
       "      <td>25000.000000</td>\n",
       "      <td>24010.000000</td>\n",
       "      <td>13119.000000</td>\n",
       "      <td>25000.000000</td>\n",
       "      <td>25000.000000</td>\n",
       "      <td>25000.000000</td>\n",
       "      <td>25000.000000</td>\n",
       "    </tr>\n",
       "    <tr>\n",
       "      <th>mean</th>\n",
       "      <td>17499.500000</td>\n",
       "      <td>4.089040</td>\n",
       "      <td>0.773680</td>\n",
       "      <td>0.081720</td>\n",
       "      <td>3.104200</td>\n",
       "      <td>5215.889320</td>\n",
       "      <td>44.918320</td>\n",
       "      <td>0.054640</td>\n",
       "      <td>0.098160</td>\n",
       "      <td>167.530000</td>\n",
       "      <td>31.393328</td>\n",
       "      <td>2003.892217</td>\n",
       "      <td>71.610480</td>\n",
       "      <td>2.517960</td>\n",
       "      <td>28.812280</td>\n",
       "      <td>27147.407680</td>\n",
       "    </tr>\n",
       "    <tr>\n",
       "      <th>std</th>\n",
       "      <td>7217.022701</td>\n",
       "      <td>2.606612</td>\n",
       "      <td>1.199449</td>\n",
       "      <td>0.273943</td>\n",
       "      <td>1.141663</td>\n",
       "      <td>1053.179748</td>\n",
       "      <td>16.107492</td>\n",
       "      <td>0.227281</td>\n",
       "      <td>0.297537</td>\n",
       "      <td>62.729712</td>\n",
       "      <td>7.876535</td>\n",
       "      <td>7.581521</td>\n",
       "      <td>9.325183</td>\n",
       "      <td>1.690335</td>\n",
       "      <td>8.632382</td>\n",
       "      <td>14323.691832</td>\n",
       "    </tr>\n",
       "    <tr>\n",
       "      <th>min</th>\n",
       "      <td>5000.000000</td>\n",
       "      <td>0.000000</td>\n",
       "      <td>0.000000</td>\n",
       "      <td>0.000000</td>\n",
       "      <td>0.000000</td>\n",
       "      <td>2034.000000</td>\n",
       "      <td>16.000000</td>\n",
       "      <td>0.000000</td>\n",
       "      <td>0.000000</td>\n",
       "      <td>57.000000</td>\n",
       "      <td>12.300000</td>\n",
       "      <td>1990.000000</td>\n",
       "      <td>52.000000</td>\n",
       "      <td>0.000000</td>\n",
       "      <td>11.000000</td>\n",
       "      <td>2468.000000</td>\n",
       "    </tr>\n",
       "    <tr>\n",
       "      <th>25%</th>\n",
       "      <td>11249.750000</td>\n",
       "      <td>2.000000</td>\n",
       "      <td>0.000000</td>\n",
       "      <td>0.000000</td>\n",
       "      <td>2.000000</td>\n",
       "      <td>4543.000000</td>\n",
       "      <td>31.000000</td>\n",
       "      <td>0.000000</td>\n",
       "      <td>0.000000</td>\n",
       "      <td>113.000000</td>\n",
       "      <td>26.100000</td>\n",
       "      <td>1997.000000</td>\n",
       "      <td>64.000000</td>\n",
       "      <td>1.000000</td>\n",
       "      <td>21.000000</td>\n",
       "      <td>16042.000000</td>\n",
       "    </tr>\n",
       "    <tr>\n",
       "      <th>50%</th>\n",
       "      <td>17499.500000</td>\n",
       "      <td>4.000000</td>\n",
       "      <td>0.000000</td>\n",
       "      <td>0.000000</td>\n",
       "      <td>3.000000</td>\n",
       "      <td>5089.000000</td>\n",
       "      <td>45.000000</td>\n",
       "      <td>0.000000</td>\n",
       "      <td>0.000000</td>\n",
       "      <td>168.000000</td>\n",
       "      <td>30.500000</td>\n",
       "      <td>2004.000000</td>\n",
       "      <td>72.000000</td>\n",
       "      <td>3.000000</td>\n",
       "      <td>31.000000</td>\n",
       "      <td>27148.000000</td>\n",
       "    </tr>\n",
       "    <tr>\n",
       "      <th>75%</th>\n",
       "      <td>23749.250000</td>\n",
       "      <td>6.000000</td>\n",
       "      <td>1.000000</td>\n",
       "      <td>0.000000</td>\n",
       "      <td>4.000000</td>\n",
       "      <td>5730.000000</td>\n",
       "      <td>59.000000</td>\n",
       "      <td>0.000000</td>\n",
       "      <td>0.000000</td>\n",
       "      <td>222.000000</td>\n",
       "      <td>35.600000</td>\n",
       "      <td>2010.000000</td>\n",
       "      <td>78.000000</td>\n",
       "      <td>4.000000</td>\n",
       "      <td>36.000000</td>\n",
       "      <td>37020.000000</td>\n",
       "    </tr>\n",
       "    <tr>\n",
       "      <th>max</th>\n",
       "      <td>29999.000000</td>\n",
       "      <td>8.000000</td>\n",
       "      <td>5.000000</td>\n",
       "      <td>1.000000</td>\n",
       "      <td>12.000000</td>\n",
       "      <td>11255.000000</td>\n",
       "      <td>74.000000</td>\n",
       "      <td>1.000000</td>\n",
       "      <td>1.000000</td>\n",
       "      <td>277.000000</td>\n",
       "      <td>100.600000</td>\n",
       "      <td>2018.000000</td>\n",
       "      <td>96.000000</td>\n",
       "      <td>6.000000</td>\n",
       "      <td>42.000000</td>\n",
       "      <td>67870.000000</td>\n",
       "    </tr>\n",
       "  </tbody>\n",
       "</table>\n",
       "</div>"
      ],
      "text/plain": [
       "       applicant_id  years_of_insurance_with_us  regular_checkup_lasy_year  \\\n",
       "count  25000.000000                25000.000000               25000.000000   \n",
       "mean   17499.500000                    4.089040                   0.773680   \n",
       "std     7217.022701                    2.606612                   1.199449   \n",
       "min     5000.000000                    0.000000                   0.000000   \n",
       "25%    11249.750000                    2.000000                   0.000000   \n",
       "50%    17499.500000                    4.000000                   0.000000   \n",
       "75%    23749.250000                    6.000000                   1.000000   \n",
       "max    29999.000000                    8.000000                   5.000000   \n",
       "\n",
       "       adventure_sports  visited_doctor_last_1_year  daily_avg_steps  \\\n",
       "count      25000.000000                25000.000000     25000.000000   \n",
       "mean           0.081720                    3.104200      5215.889320   \n",
       "std            0.273943                    1.141663      1053.179748   \n",
       "min            0.000000                    0.000000      2034.000000   \n",
       "25%            0.000000                    2.000000      4543.000000   \n",
       "50%            0.000000                    3.000000      5089.000000   \n",
       "75%            0.000000                    4.000000      5730.000000   \n",
       "max            1.000000                   12.000000     11255.000000   \n",
       "\n",
       "                age  heart_decs_history  other_major_decs_history  \\\n",
       "count  25000.000000        25000.000000              25000.000000   \n",
       "mean      44.918320            0.054640                  0.098160   \n",
       "std       16.107492            0.227281                  0.297537   \n",
       "min       16.000000            0.000000                  0.000000   \n",
       "25%       31.000000            0.000000                  0.000000   \n",
       "50%       45.000000            0.000000                  0.000000   \n",
       "75%       59.000000            0.000000                  0.000000   \n",
       "max       74.000000            1.000000                  1.000000   \n",
       "\n",
       "       avg_glucose_level           bmi  Year_last_admitted        weight  \\\n",
       "count       25000.000000  24010.000000        13119.000000  25000.000000   \n",
       "mean          167.530000     31.393328         2003.892217     71.610480   \n",
       "std            62.729712      7.876535            7.581521      9.325183   \n",
       "min            57.000000     12.300000         1990.000000     52.000000   \n",
       "25%           113.000000     26.100000         1997.000000     64.000000   \n",
       "50%           168.000000     30.500000         2004.000000     72.000000   \n",
       "75%           222.000000     35.600000         2010.000000     78.000000   \n",
       "max           277.000000    100.600000         2018.000000     96.000000   \n",
       "\n",
       "       weight_change_in_last_one_year  fat_percentage  insurance_cost  \n",
       "count                    25000.000000    25000.000000    25000.000000  \n",
       "mean                         2.517960       28.812280    27147.407680  \n",
       "std                          1.690335        8.632382    14323.691832  \n",
       "min                          0.000000       11.000000     2468.000000  \n",
       "25%                          1.000000       21.000000    16042.000000  \n",
       "50%                          3.000000       31.000000    27148.000000  \n",
       "75%                          4.000000       36.000000    37020.000000  \n",
       "max                          6.000000       42.000000    67870.000000  "
      ]
     },
     "execution_count": 5,
     "metadata": {},
     "output_type": "execute_result"
    }
   ],
   "source": [
    "df.describe()"
   ]
  },
  {
   "cell_type": "code",
   "execution_count": 6,
   "id": "nervous-turkey",
   "metadata": {},
   "outputs": [],
   "source": [
    "df=df.drop(['applicant_id'], axis=1)"
   ]
  },
  {
   "cell_type": "code",
   "execution_count": 7,
   "id": "partial-cannon",
   "metadata": {},
   "outputs": [
    {
     "name": "stdout",
     "output_type": "stream",
     "text": [
      "<class 'pandas.core.frame.DataFrame'>\n",
      "RangeIndex: 25000 entries, 0 to 24999\n",
      "Data columns (total 23 columns):\n",
      " #   Column                          Non-Null Count  Dtype  \n",
      "---  ------                          --------------  -----  \n",
      " 0   years_of_insurance_with_us      25000 non-null  int64  \n",
      " 1   regular_checkup_lasy_year       25000 non-null  int64  \n",
      " 2   adventure_sports                25000 non-null  int64  \n",
      " 3   Occupation                      25000 non-null  object \n",
      " 4   visited_doctor_last_1_year      25000 non-null  int64  \n",
      " 5   cholesterol_level               25000 non-null  object \n",
      " 6   daily_avg_steps                 25000 non-null  int64  \n",
      " 7   age                             25000 non-null  int64  \n",
      " 8   heart_decs_history              25000 non-null  int64  \n",
      " 9   other_major_decs_history        25000 non-null  int64  \n",
      " 10  Gender                          25000 non-null  object \n",
      " 11  avg_glucose_level               25000 non-null  int64  \n",
      " 12  bmi                             24010 non-null  float64\n",
      " 13  smoking_status                  25000 non-null  object \n",
      " 14  Year_last_admitted              13119 non-null  float64\n",
      " 15  Location                        25000 non-null  object \n",
      " 16  weight                          25000 non-null  int64  \n",
      " 17  covered_by_any_other_company    25000 non-null  object \n",
      " 18  Alcohol                         25000 non-null  object \n",
      " 19  exercise                        25000 non-null  object \n",
      " 20  weight_change_in_last_one_year  25000 non-null  int64  \n",
      " 21  fat_percentage                  25000 non-null  int64  \n",
      " 22  insurance_cost                  25000 non-null  int64  \n",
      "dtypes: float64(2), int64(13), object(8)\n",
      "memory usage: 4.4+ MB\n"
     ]
    }
   ],
   "source": [
    "df.info()"
   ]
  },
  {
   "cell_type": "markdown",
   "id": "brief-advantage",
   "metadata": {},
   "source": [
    "Some of the column showing INT data types but it should be object data types. therefore converting them into object data types."
   ]
  },
  {
   "cell_type": "code",
   "execution_count": 8,
   "id": "underlying-window",
   "metadata": {},
   "outputs": [],
   "source": [
    "df['years_of_insurance_with_us']=df['years_of_insurance_with_us'].astype('object')\n",
    "df['adventure_sports']=df['adventure_sports'].astype('object')\n",
    "df['visited_doctor_last_1_year']=df['visited_doctor_last_1_year'].astype('object')\n",
    "df['heart_decs_history']=df['heart_decs_history'].astype('object')\n",
    "df['other_major_decs_history']=df['other_major_decs_history'].astype('object')\n",
    "df['Year_last_admitted']=df['Year_last_admitted'].astype('object')\n",
    "df['other_major_decs_history']=df['other_major_decs_history'].astype('object')\n",
    "df['other_major_decs_history']=df['other_major_decs_history'].astype('object')\n",
    "df['other_major_decs_history']=df['other_major_decs_history'].astype('object')\n",
    "df['regular_checkup_lasy_year']=df['regular_checkup_lasy_year'].astype('object')"
   ]
  },
  {
   "cell_type": "code",
   "execution_count": 9,
   "id": "objective-fountain",
   "metadata": {},
   "outputs": [
    {
     "name": "stdout",
     "output_type": "stream",
     "text": [
      "<class 'pandas.core.frame.DataFrame'>\n",
      "RangeIndex: 25000 entries, 0 to 24999\n",
      "Data columns (total 23 columns):\n",
      " #   Column                          Non-Null Count  Dtype  \n",
      "---  ------                          --------------  -----  \n",
      " 0   years_of_insurance_with_us      25000 non-null  object \n",
      " 1   regular_checkup_lasy_year       25000 non-null  object \n",
      " 2   adventure_sports                25000 non-null  object \n",
      " 3   Occupation                      25000 non-null  object \n",
      " 4   visited_doctor_last_1_year      25000 non-null  object \n",
      " 5   cholesterol_level               25000 non-null  object \n",
      " 6   daily_avg_steps                 25000 non-null  int64  \n",
      " 7   age                             25000 non-null  int64  \n",
      " 8   heart_decs_history              25000 non-null  object \n",
      " 9   other_major_decs_history        25000 non-null  object \n",
      " 10  Gender                          25000 non-null  object \n",
      " 11  avg_glucose_level               25000 non-null  int64  \n",
      " 12  bmi                             24010 non-null  float64\n",
      " 13  smoking_status                  25000 non-null  object \n",
      " 14  Year_last_admitted              13119 non-null  object \n",
      " 15  Location                        25000 non-null  object \n",
      " 16  weight                          25000 non-null  int64  \n",
      " 17  covered_by_any_other_company    25000 non-null  object \n",
      " 18  Alcohol                         25000 non-null  object \n",
      " 19  exercise                        25000 non-null  object \n",
      " 20  weight_change_in_last_one_year  25000 non-null  int64  \n",
      " 21  fat_percentage                  25000 non-null  int64  \n",
      " 22  insurance_cost                  25000 non-null  int64  \n",
      "dtypes: float64(1), int64(7), object(15)\n",
      "memory usage: 4.4+ MB\n"
     ]
    }
   ],
   "source": [
    "df.info()"
   ]
  },
  {
   "cell_type": "markdown",
   "id": "hindu-cheese",
   "metadata": {},
   "source": [
    "### Missing value"
   ]
  },
  {
   "cell_type": "code",
   "execution_count": 10,
   "id": "trying-purchase",
   "metadata": {},
   "outputs": [
    {
     "data": {
      "text/plain": [
       "years_of_insurance_with_us            0\n",
       "regular_checkup_lasy_year             0\n",
       "adventure_sports                      0\n",
       "Occupation                            0\n",
       "visited_doctor_last_1_year            0\n",
       "cholesterol_level                     0\n",
       "daily_avg_steps                       0\n",
       "age                                   0\n",
       "heart_decs_history                    0\n",
       "other_major_decs_history              0\n",
       "Gender                                0\n",
       "avg_glucose_level                     0\n",
       "bmi                                 990\n",
       "smoking_status                        0\n",
       "Year_last_admitted                11881\n",
       "Location                              0\n",
       "weight                                0\n",
       "covered_by_any_other_company          0\n",
       "Alcohol                               0\n",
       "exercise                              0\n",
       "weight_change_in_last_one_year        0\n",
       "fat_percentage                        0\n",
       "insurance_cost                        0\n",
       "dtype: int64"
      ]
     },
     "execution_count": 10,
     "metadata": {},
     "output_type": "execute_result"
    }
   ],
   "source": [
    "df.isnull().sum()"
   ]
  },
  {
   "cell_type": "markdown",
   "id": "cutting-hazard",
   "metadata": {},
   "source": [
    "Since we have almost 50% of missing data for year_last_admitted column we will drop the column coz we cannot afford to have 50% manupulated data. however BMI has only 3% of missing data and we can treat these missing value. "
   ]
  },
  {
   "cell_type": "code",
   "execution_count": 11,
   "id": "filled-adult",
   "metadata": {},
   "outputs": [],
   "source": [
    "df=df.drop(['Year_last_admitted'], axis=1)"
   ]
  },
  {
   "cell_type": "code",
   "execution_count": 12,
   "id": "infrared-digit",
   "metadata": {},
   "outputs": [
    {
     "name": "stdout",
     "output_type": "stream",
     "text": [
      "<class 'pandas.core.frame.DataFrame'>\n",
      "RangeIndex: 25000 entries, 0 to 24999\n",
      "Data columns (total 22 columns):\n",
      " #   Column                          Non-Null Count  Dtype  \n",
      "---  ------                          --------------  -----  \n",
      " 0   years_of_insurance_with_us      25000 non-null  object \n",
      " 1   regular_checkup_lasy_year       25000 non-null  object \n",
      " 2   adventure_sports                25000 non-null  object \n",
      " 3   Occupation                      25000 non-null  object \n",
      " 4   visited_doctor_last_1_year      25000 non-null  object \n",
      " 5   cholesterol_level               25000 non-null  object \n",
      " 6   daily_avg_steps                 25000 non-null  int64  \n",
      " 7   age                             25000 non-null  int64  \n",
      " 8   heart_decs_history              25000 non-null  object \n",
      " 9   other_major_decs_history        25000 non-null  object \n",
      " 10  Gender                          25000 non-null  object \n",
      " 11  avg_glucose_level               25000 non-null  int64  \n",
      " 12  bmi                             24010 non-null  float64\n",
      " 13  smoking_status                  25000 non-null  object \n",
      " 14  Location                        25000 non-null  object \n",
      " 15  weight                          25000 non-null  int64  \n",
      " 16  covered_by_any_other_company    25000 non-null  object \n",
      " 17  Alcohol                         25000 non-null  object \n",
      " 18  exercise                        25000 non-null  object \n",
      " 19  weight_change_in_last_one_year  25000 non-null  int64  \n",
      " 20  fat_percentage                  25000 non-null  int64  \n",
      " 21  insurance_cost                  25000 non-null  int64  \n",
      "dtypes: float64(1), int64(7), object(14)\n",
      "memory usage: 4.2+ MB\n"
     ]
    }
   ],
   "source": [
    "df.info()"
   ]
  },
  {
   "cell_type": "markdown",
   "id": "congressional-worst",
   "metadata": {},
   "source": [
    "### Treating Missing value"
   ]
  },
  {
   "cell_type": "code",
   "execution_count": 13,
   "id": "portuguese-header",
   "metadata": {},
   "outputs": [],
   "source": [
    "df_median=df['bmi'].median()"
   ]
  },
  {
   "cell_type": "code",
   "execution_count": 14,
   "id": "foreign-shelf",
   "metadata": {},
   "outputs": [],
   "source": [
    "df['bmi']=df['bmi'].fillna(value=df_median)"
   ]
  },
  {
   "cell_type": "code",
   "execution_count": 15,
   "id": "removed-bradley",
   "metadata": {},
   "outputs": [
    {
     "data": {
      "text/html": [
       "<div>\n",
       "<style scoped>\n",
       "    .dataframe tbody tr th:only-of-type {\n",
       "        vertical-align: middle;\n",
       "    }\n",
       "\n",
       "    .dataframe tbody tr th {\n",
       "        vertical-align: top;\n",
       "    }\n",
       "\n",
       "    .dataframe thead th {\n",
       "        text-align: right;\n",
       "    }\n",
       "</style>\n",
       "<table border=\"1\" class=\"dataframe\">\n",
       "  <thead>\n",
       "    <tr style=\"text-align: right;\">\n",
       "      <th></th>\n",
       "      <th>years_of_insurance_with_us</th>\n",
       "      <th>regular_checkup_lasy_year</th>\n",
       "      <th>adventure_sports</th>\n",
       "      <th>Occupation</th>\n",
       "      <th>visited_doctor_last_1_year</th>\n",
       "      <th>cholesterol_level</th>\n",
       "      <th>daily_avg_steps</th>\n",
       "      <th>age</th>\n",
       "      <th>heart_decs_history</th>\n",
       "      <th>other_major_decs_history</th>\n",
       "      <th>...</th>\n",
       "      <th>bmi</th>\n",
       "      <th>smoking_status</th>\n",
       "      <th>Location</th>\n",
       "      <th>weight</th>\n",
       "      <th>covered_by_any_other_company</th>\n",
       "      <th>Alcohol</th>\n",
       "      <th>exercise</th>\n",
       "      <th>weight_change_in_last_one_year</th>\n",
       "      <th>fat_percentage</th>\n",
       "      <th>insurance_cost</th>\n",
       "    </tr>\n",
       "  </thead>\n",
       "  <tbody>\n",
       "    <tr>\n",
       "      <th>0</th>\n",
       "      <td>3</td>\n",
       "      <td>1</td>\n",
       "      <td>1</td>\n",
       "      <td>Salried</td>\n",
       "      <td>2</td>\n",
       "      <td>125 to 150</td>\n",
       "      <td>4866</td>\n",
       "      <td>28</td>\n",
       "      <td>1</td>\n",
       "      <td>0</td>\n",
       "      <td>...</td>\n",
       "      <td>31.2</td>\n",
       "      <td>Unknown</td>\n",
       "      <td>Chennai</td>\n",
       "      <td>67</td>\n",
       "      <td>N</td>\n",
       "      <td>Rare</td>\n",
       "      <td>Moderate</td>\n",
       "      <td>1</td>\n",
       "      <td>25</td>\n",
       "      <td>20978</td>\n",
       "    </tr>\n",
       "    <tr>\n",
       "      <th>1</th>\n",
       "      <td>0</td>\n",
       "      <td>0</td>\n",
       "      <td>0</td>\n",
       "      <td>Student</td>\n",
       "      <td>4</td>\n",
       "      <td>150 to 175</td>\n",
       "      <td>6411</td>\n",
       "      <td>50</td>\n",
       "      <td>0</td>\n",
       "      <td>0</td>\n",
       "      <td>...</td>\n",
       "      <td>34.2</td>\n",
       "      <td>formerly smoked</td>\n",
       "      <td>Jaipur</td>\n",
       "      <td>58</td>\n",
       "      <td>N</td>\n",
       "      <td>Rare</td>\n",
       "      <td>Moderate</td>\n",
       "      <td>3</td>\n",
       "      <td>27</td>\n",
       "      <td>6170</td>\n",
       "    </tr>\n",
       "    <tr>\n",
       "      <th>2</th>\n",
       "      <td>1</td>\n",
       "      <td>0</td>\n",
       "      <td>0</td>\n",
       "      <td>Business</td>\n",
       "      <td>4</td>\n",
       "      <td>200 to 225</td>\n",
       "      <td>4509</td>\n",
       "      <td>68</td>\n",
       "      <td>0</td>\n",
       "      <td>0</td>\n",
       "      <td>...</td>\n",
       "      <td>40.4</td>\n",
       "      <td>formerly smoked</td>\n",
       "      <td>Jaipur</td>\n",
       "      <td>73</td>\n",
       "      <td>N</td>\n",
       "      <td>Daily</td>\n",
       "      <td>Extreme</td>\n",
       "      <td>0</td>\n",
       "      <td>32</td>\n",
       "      <td>28382</td>\n",
       "    </tr>\n",
       "    <tr>\n",
       "      <th>3</th>\n",
       "      <td>7</td>\n",
       "      <td>4</td>\n",
       "      <td>0</td>\n",
       "      <td>Business</td>\n",
       "      <td>2</td>\n",
       "      <td>175 to 200</td>\n",
       "      <td>6214</td>\n",
       "      <td>51</td>\n",
       "      <td>0</td>\n",
       "      <td>0</td>\n",
       "      <td>...</td>\n",
       "      <td>22.9</td>\n",
       "      <td>Unknown</td>\n",
       "      <td>Chennai</td>\n",
       "      <td>71</td>\n",
       "      <td>Y</td>\n",
       "      <td>Rare</td>\n",
       "      <td>No</td>\n",
       "      <td>3</td>\n",
       "      <td>37</td>\n",
       "      <td>27148</td>\n",
       "    </tr>\n",
       "    <tr>\n",
       "      <th>4</th>\n",
       "      <td>3</td>\n",
       "      <td>1</td>\n",
       "      <td>0</td>\n",
       "      <td>Student</td>\n",
       "      <td>2</td>\n",
       "      <td>150 to 175</td>\n",
       "      <td>4938</td>\n",
       "      <td>44</td>\n",
       "      <td>0</td>\n",
       "      <td>1</td>\n",
       "      <td>...</td>\n",
       "      <td>26.5</td>\n",
       "      <td>never smoked</td>\n",
       "      <td>Bangalore</td>\n",
       "      <td>74</td>\n",
       "      <td>N</td>\n",
       "      <td>No</td>\n",
       "      <td>Extreme</td>\n",
       "      <td>0</td>\n",
       "      <td>34</td>\n",
       "      <td>29616</td>\n",
       "    </tr>\n",
       "    <tr>\n",
       "      <th>5</th>\n",
       "      <td>8</td>\n",
       "      <td>0</td>\n",
       "      <td>0</td>\n",
       "      <td>Salried</td>\n",
       "      <td>2</td>\n",
       "      <td>225 to 250</td>\n",
       "      <td>5306</td>\n",
       "      <td>39</td>\n",
       "      <td>0</td>\n",
       "      <td>0</td>\n",
       "      <td>...</td>\n",
       "      <td>38.0</td>\n",
       "      <td>Unknown</td>\n",
       "      <td>Bhubaneswar</td>\n",
       "      <td>78</td>\n",
       "      <td>Y</td>\n",
       "      <td>Rare</td>\n",
       "      <td>No</td>\n",
       "      <td>3</td>\n",
       "      <td>13</td>\n",
       "      <td>39488</td>\n",
       "    </tr>\n",
       "    <tr>\n",
       "      <th>6</th>\n",
       "      <td>8</td>\n",
       "      <td>0</td>\n",
       "      <td>0</td>\n",
       "      <td>Student</td>\n",
       "      <td>4</td>\n",
       "      <td>125 to 150</td>\n",
       "      <td>4676</td>\n",
       "      <td>40</td>\n",
       "      <td>0</td>\n",
       "      <td>0</td>\n",
       "      <td>...</td>\n",
       "      <td>28.7</td>\n",
       "      <td>never smoked</td>\n",
       "      <td>Guwahati</td>\n",
       "      <td>81</td>\n",
       "      <td>N</td>\n",
       "      <td>No</td>\n",
       "      <td>Moderate</td>\n",
       "      <td>3</td>\n",
       "      <td>16</td>\n",
       "      <td>37020</td>\n",
       "    </tr>\n",
       "    <tr>\n",
       "      <th>7</th>\n",
       "      <td>1</td>\n",
       "      <td>0</td>\n",
       "      <td>0</td>\n",
       "      <td>Student</td>\n",
       "      <td>4</td>\n",
       "      <td>150 to 175</td>\n",
       "      <td>7448</td>\n",
       "      <td>46</td>\n",
       "      <td>0</td>\n",
       "      <td>0</td>\n",
       "      <td>...</td>\n",
       "      <td>26.0</td>\n",
       "      <td>smokes</td>\n",
       "      <td>Chennai</td>\n",
       "      <td>72</td>\n",
       "      <td>N</td>\n",
       "      <td>Rare</td>\n",
       "      <td>Moderate</td>\n",
       "      <td>0</td>\n",
       "      <td>34</td>\n",
       "      <td>29616</td>\n",
       "    </tr>\n",
       "    <tr>\n",
       "      <th>8</th>\n",
       "      <td>8</td>\n",
       "      <td>1</td>\n",
       "      <td>0</td>\n",
       "      <td>Salried</td>\n",
       "      <td>4</td>\n",
       "      <td>125 to 150</td>\n",
       "      <td>5632</td>\n",
       "      <td>45</td>\n",
       "      <td>0</td>\n",
       "      <td>0</td>\n",
       "      <td>...</td>\n",
       "      <td>24.4</td>\n",
       "      <td>smokes</td>\n",
       "      <td>Mumbai</td>\n",
       "      <td>67</td>\n",
       "      <td>Y</td>\n",
       "      <td>Rare</td>\n",
       "      <td>No</td>\n",
       "      <td>1</td>\n",
       "      <td>12</td>\n",
       "      <td>22212</td>\n",
       "    </tr>\n",
       "    <tr>\n",
       "      <th>9</th>\n",
       "      <td>4</td>\n",
       "      <td>3</td>\n",
       "      <td>0</td>\n",
       "      <td>Salried</td>\n",
       "      <td>3</td>\n",
       "      <td>125 to 150</td>\n",
       "      <td>4130</td>\n",
       "      <td>38</td>\n",
       "      <td>0</td>\n",
       "      <td>0</td>\n",
       "      <td>...</td>\n",
       "      <td>46.0</td>\n",
       "      <td>formerly smoked</td>\n",
       "      <td>Nagpur</td>\n",
       "      <td>63</td>\n",
       "      <td>N</td>\n",
       "      <td>Daily</td>\n",
       "      <td>Moderate</td>\n",
       "      <td>0</td>\n",
       "      <td>12</td>\n",
       "      <td>8638</td>\n",
       "    </tr>\n",
       "  </tbody>\n",
       "</table>\n",
       "<p>10 rows × 22 columns</p>\n",
       "</div>"
      ],
      "text/plain": [
       "  years_of_insurance_with_us regular_checkup_lasy_year adventure_sports  \\\n",
       "0                          3                         1                1   \n",
       "1                          0                         0                0   \n",
       "2                          1                         0                0   \n",
       "3                          7                         4                0   \n",
       "4                          3                         1                0   \n",
       "5                          8                         0                0   \n",
       "6                          8                         0                0   \n",
       "7                          1                         0                0   \n",
       "8                          8                         1                0   \n",
       "9                          4                         3                0   \n",
       "\n",
       "  Occupation visited_doctor_last_1_year cholesterol_level  daily_avg_steps  \\\n",
       "0    Salried                          2        125 to 150             4866   \n",
       "1    Student                          4        150 to 175             6411   \n",
       "2   Business                          4        200 to 225             4509   \n",
       "3   Business                          2        175 to 200             6214   \n",
       "4    Student                          2        150 to 175             4938   \n",
       "5    Salried                          2        225 to 250             5306   \n",
       "6    Student                          4        125 to 150             4676   \n",
       "7    Student                          4        150 to 175             7448   \n",
       "8    Salried                          4        125 to 150             5632   \n",
       "9    Salried                          3        125 to 150             4130   \n",
       "\n",
       "   age heart_decs_history other_major_decs_history  ...   bmi  \\\n",
       "0   28                  1                        0  ...  31.2   \n",
       "1   50                  0                        0  ...  34.2   \n",
       "2   68                  0                        0  ...  40.4   \n",
       "3   51                  0                        0  ...  22.9   \n",
       "4   44                  0                        1  ...  26.5   \n",
       "5   39                  0                        0  ...  38.0   \n",
       "6   40                  0                        0  ...  28.7   \n",
       "7   46                  0                        0  ...  26.0   \n",
       "8   45                  0                        0  ...  24.4   \n",
       "9   38                  0                        0  ...  46.0   \n",
       "\n",
       "    smoking_status     Location weight covered_by_any_other_company  Alcohol  \\\n",
       "0          Unknown      Chennai     67                            N     Rare   \n",
       "1  formerly smoked       Jaipur     58                            N     Rare   \n",
       "2  formerly smoked       Jaipur     73                            N    Daily   \n",
       "3          Unknown      Chennai     71                            Y     Rare   \n",
       "4     never smoked    Bangalore     74                            N       No   \n",
       "5          Unknown  Bhubaneswar     78                            Y     Rare   \n",
       "6     never smoked     Guwahati     81                            N       No   \n",
       "7           smokes      Chennai     72                            N     Rare   \n",
       "8           smokes       Mumbai     67                            Y     Rare   \n",
       "9  formerly smoked       Nagpur     63                            N    Daily   \n",
       "\n",
       "   exercise weight_change_in_last_one_year fat_percentage  insurance_cost  \n",
       "0  Moderate                              1             25           20978  \n",
       "1  Moderate                              3             27            6170  \n",
       "2   Extreme                              0             32           28382  \n",
       "3        No                              3             37           27148  \n",
       "4   Extreme                              0             34           29616  \n",
       "5        No                              3             13           39488  \n",
       "6  Moderate                              3             16           37020  \n",
       "7  Moderate                              0             34           29616  \n",
       "8        No                              1             12           22212  \n",
       "9  Moderate                              0             12            8638  \n",
       "\n",
       "[10 rows x 22 columns]"
      ]
     },
     "execution_count": 15,
     "metadata": {},
     "output_type": "execute_result"
    }
   ],
   "source": [
    "df.head(10)"
   ]
  },
  {
   "cell_type": "markdown",
   "id": "greatest-hamilton",
   "metadata": {},
   "source": [
    "### checking duplicate value"
   ]
  },
  {
   "cell_type": "code",
   "execution_count": 16,
   "id": "driving-lawrence",
   "metadata": {},
   "outputs": [
    {
     "data": {
      "text/plain": [
       "0"
      ]
     },
     "execution_count": 16,
     "metadata": {},
     "output_type": "execute_result"
    }
   ],
   "source": [
    "df.duplicated().sum()"
   ]
  },
  {
   "cell_type": "code",
   "execution_count": 17,
   "id": "hispanic-assurance",
   "metadata": {},
   "outputs": [],
   "source": [
    "def univariateAnalysis_numeric(column,nbins):\n",
    "    print(\"Description of \" + column)\n",
    "    print(\"----------------------------------------------------------------------------\")\n",
    "    print(df[column].describe(),end=' ')\n",
    "   \n",
    "    \n",
    "    plt.figure()\n",
    "    print(\"Distribution of \" + column)\n",
    "    print(\"----------------------------------------------------------------------------\")\n",
    "    sns.distplot(df[column], kde=False, color='g');\n",
    "    plt.show()\n",
    "    \n",
    "    plt.figure()\n",
    "    print(\"BoxPlot of \" + column)\n",
    "    print(\"----------------------------------------------------------------------------\")\n",
    "    ax = sns.boxplot(x=df[column])\n",
    "    plt.show()"
   ]
  },
  {
   "cell_type": "code",
   "execution_count": 18,
   "id": "alert-astronomy",
   "metadata": {},
   "outputs": [],
   "source": [
    "df_num = df.select_dtypes(include = ['float64', 'int64'])"
   ]
  },
  {
   "cell_type": "code",
   "execution_count": 19,
   "id": "saving-vancouver",
   "metadata": {},
   "outputs": [
    {
     "data": {
      "text/plain": [
       "8"
      ]
     },
     "execution_count": 19,
     "metadata": {},
     "output_type": "execute_result"
    }
   ],
   "source": [
    "lstnumericcolumns = list(df_num.columns.values)\n",
    "len(lstnumericcolumns)"
   ]
  },
  {
   "cell_type": "code",
   "execution_count": 20,
   "id": "terminal-norwegian",
   "metadata": {},
   "outputs": [
    {
     "data": {
      "text/html": [
       "<div>\n",
       "<style scoped>\n",
       "    .dataframe tbody tr th:only-of-type {\n",
       "        vertical-align: middle;\n",
       "    }\n",
       "\n",
       "    .dataframe tbody tr th {\n",
       "        vertical-align: top;\n",
       "    }\n",
       "\n",
       "    .dataframe thead th {\n",
       "        text-align: right;\n",
       "    }\n",
       "</style>\n",
       "<table border=\"1\" class=\"dataframe\">\n",
       "  <thead>\n",
       "    <tr style=\"text-align: right;\">\n",
       "      <th></th>\n",
       "      <th>daily_avg_steps</th>\n",
       "      <th>age</th>\n",
       "      <th>avg_glucose_level</th>\n",
       "      <th>bmi</th>\n",
       "      <th>weight</th>\n",
       "      <th>weight_change_in_last_one_year</th>\n",
       "      <th>fat_percentage</th>\n",
       "      <th>insurance_cost</th>\n",
       "    </tr>\n",
       "  </thead>\n",
       "  <tbody>\n",
       "    <tr>\n",
       "      <th>count</th>\n",
       "      <td>25000.000000</td>\n",
       "      <td>25000.000000</td>\n",
       "      <td>25000.000000</td>\n",
       "      <td>25000.000000</td>\n",
       "      <td>25000.000000</td>\n",
       "      <td>25000.000000</td>\n",
       "      <td>25000.000000</td>\n",
       "      <td>25000.000000</td>\n",
       "    </tr>\n",
       "    <tr>\n",
       "      <th>mean</th>\n",
       "      <td>5215.889320</td>\n",
       "      <td>44.918320</td>\n",
       "      <td>167.530000</td>\n",
       "      <td>31.357952</td>\n",
       "      <td>71.610480</td>\n",
       "      <td>2.517960</td>\n",
       "      <td>28.812280</td>\n",
       "      <td>27147.407680</td>\n",
       "    </tr>\n",
       "    <tr>\n",
       "      <th>std</th>\n",
       "      <td>1053.179748</td>\n",
       "      <td>16.107492</td>\n",
       "      <td>62.729712</td>\n",
       "      <td>7.720963</td>\n",
       "      <td>9.325183</td>\n",
       "      <td>1.690335</td>\n",
       "      <td>8.632382</td>\n",
       "      <td>14323.691832</td>\n",
       "    </tr>\n",
       "    <tr>\n",
       "      <th>min</th>\n",
       "      <td>2034.000000</td>\n",
       "      <td>16.000000</td>\n",
       "      <td>57.000000</td>\n",
       "      <td>12.300000</td>\n",
       "      <td>52.000000</td>\n",
       "      <td>0.000000</td>\n",
       "      <td>11.000000</td>\n",
       "      <td>2468.000000</td>\n",
       "    </tr>\n",
       "    <tr>\n",
       "      <th>25%</th>\n",
       "      <td>4543.000000</td>\n",
       "      <td>31.000000</td>\n",
       "      <td>113.000000</td>\n",
       "      <td>26.300000</td>\n",
       "      <td>64.000000</td>\n",
       "      <td>1.000000</td>\n",
       "      <td>21.000000</td>\n",
       "      <td>16042.000000</td>\n",
       "    </tr>\n",
       "    <tr>\n",
       "      <th>50%</th>\n",
       "      <td>5089.000000</td>\n",
       "      <td>45.000000</td>\n",
       "      <td>168.000000</td>\n",
       "      <td>30.500000</td>\n",
       "      <td>72.000000</td>\n",
       "      <td>3.000000</td>\n",
       "      <td>31.000000</td>\n",
       "      <td>27148.000000</td>\n",
       "    </tr>\n",
       "    <tr>\n",
       "      <th>75%</th>\n",
       "      <td>5730.000000</td>\n",
       "      <td>59.000000</td>\n",
       "      <td>222.000000</td>\n",
       "      <td>35.300000</td>\n",
       "      <td>78.000000</td>\n",
       "      <td>4.000000</td>\n",
       "      <td>36.000000</td>\n",
       "      <td>37020.000000</td>\n",
       "    </tr>\n",
       "    <tr>\n",
       "      <th>max</th>\n",
       "      <td>11255.000000</td>\n",
       "      <td>74.000000</td>\n",
       "      <td>277.000000</td>\n",
       "      <td>100.600000</td>\n",
       "      <td>96.000000</td>\n",
       "      <td>6.000000</td>\n",
       "      <td>42.000000</td>\n",
       "      <td>67870.000000</td>\n",
       "    </tr>\n",
       "  </tbody>\n",
       "</table>\n",
       "</div>"
      ],
      "text/plain": [
       "       daily_avg_steps           age  avg_glucose_level           bmi  \\\n",
       "count     25000.000000  25000.000000       25000.000000  25000.000000   \n",
       "mean       5215.889320     44.918320         167.530000     31.357952   \n",
       "std        1053.179748     16.107492          62.729712      7.720963   \n",
       "min        2034.000000     16.000000          57.000000     12.300000   \n",
       "25%        4543.000000     31.000000         113.000000     26.300000   \n",
       "50%        5089.000000     45.000000         168.000000     30.500000   \n",
       "75%        5730.000000     59.000000         222.000000     35.300000   \n",
       "max       11255.000000     74.000000         277.000000    100.600000   \n",
       "\n",
       "             weight  weight_change_in_last_one_year  fat_percentage  \\\n",
       "count  25000.000000                    25000.000000    25000.000000   \n",
       "mean      71.610480                        2.517960       28.812280   \n",
       "std        9.325183                        1.690335        8.632382   \n",
       "min       52.000000                        0.000000       11.000000   \n",
       "25%       64.000000                        1.000000       21.000000   \n",
       "50%       72.000000                        3.000000       31.000000   \n",
       "75%       78.000000                        4.000000       36.000000   \n",
       "max       96.000000                        6.000000       42.000000   \n",
       "\n",
       "       insurance_cost  \n",
       "count    25000.000000  \n",
       "mean     27147.407680  \n",
       "std      14323.691832  \n",
       "min       2468.000000  \n",
       "25%      16042.000000  \n",
       "50%      27148.000000  \n",
       "75%      37020.000000  \n",
       "max      67870.000000  "
      ]
     },
     "execution_count": 20,
     "metadata": {},
     "output_type": "execute_result"
    }
   ],
   "source": [
    "df_num.describe()"
   ]
  },
  {
   "cell_type": "code",
   "execution_count": 21,
   "id": "swedish-camcorder",
   "metadata": {},
   "outputs": [
    {
     "data": {
      "text/plain": [
       "['daily_avg_steps',\n",
       " 'age',\n",
       " 'avg_glucose_level',\n",
       " 'bmi',\n",
       " 'weight',\n",
       " 'weight_change_in_last_one_year',\n",
       " 'fat_percentage',\n",
       " 'insurance_cost']"
      ]
     },
     "execution_count": 21,
     "metadata": {},
     "output_type": "execute_result"
    }
   ],
   "source": [
    "lstnumericcolumns"
   ]
  },
  {
   "cell_type": "code",
   "execution_count": 22,
   "id": "inappropriate-rolling",
   "metadata": {},
   "outputs": [
    {
     "name": "stdout",
     "output_type": "stream",
     "text": [
      "Description of daily_avg_steps\n",
      "----------------------------------------------------------------------------\n",
      "count    25000.000000\n",
      "mean      5215.889320\n",
      "std       1053.179748\n",
      "min       2034.000000\n",
      "25%       4543.000000\n",
      "50%       5089.000000\n",
      "75%       5730.000000\n",
      "max      11255.000000\n",
      "Name: daily_avg_steps, dtype: float64 Distribution of daily_avg_steps\n",
      "----------------------------------------------------------------------------\n"
     ]
    },
    {
     "name": "stderr",
     "output_type": "stream",
     "text": [
      "D:\\PGDM\\Anaconda\\lib\\site-packages\\seaborn\\distributions.py:2619: FutureWarning: `distplot` is a deprecated function and will be removed in a future version. Please adapt your code to use either `displot` (a figure-level function with similar flexibility) or `histplot` (an axes-level function for histograms).\n",
      "  warnings.warn(msg, FutureWarning)\n"
     ]
    },
    {
     "data": {
      "image/png": "[encoded data removed]",
      "text/plain": [
       "<Figure size 432x288 with 1 Axes>"
      ]
     },
     "metadata": {
      "needs_background": "light"
     },
     "output_type": "display_data"
    },
    {
     "name": "stdout",
     "output_type": "stream",
     "text": [
      "BoxPlot of daily_avg_steps\n",
      "----------------------------------------------------------------------------\n"
     ]
    },
    {
     "data": {
      "image/png": "[encoded data removed]",
      "text/plain": [
       "<Figure size 432x288 with 1 Axes>"
      ]
     },
     "metadata": {
      "needs_background": "light"
     },
     "output_type": "display_data"
    },
    {
     "name": "stdout",
     "output_type": "stream",
     "text": [
      "Description of age\n",
      "----------------------------------------------------------------------------\n",
      "count    25000.000000\n",
      "mean        44.918320\n",
      "std         16.107492\n",
      "min         16.000000\n",
      "25%         31.000000\n",
      "50%         45.000000\n",
      "75%         59.000000\n",
      "max         74.000000\n",
      "Name: age, dtype: float64 Distribution of age\n",
      "----------------------------------------------------------------------------\n"
     ]
    },
    {
     "name": "stderr",
     "output_type": "stream",
     "text": [
      "D:\\PGDM\\Anaconda\\lib\\site-packages\\seaborn\\distributions.py:2619: FutureWarning: `distplot` is a deprecated function and will be removed in a future version. Please adapt your code to use either `displot` (a figure-level function with similar flexibility) or `histplot` (an axes-level function for histograms).\n",
      "  warnings.warn(msg, FutureWarning)\n"
     ]
    },
    {
     "data": {
      "image/png": "[encoded data removed]",
      "text/plain": [
       "<Figure size 432x288 with 1 Axes>"
      ]
     },
     "metadata": {
      "needs_background": "light"
     },
     "output_type": "display_data"
    },
    {
     "name": "stdout",
     "output_type": "stream",
     "text": [
      "BoxPlot of age\n",
      "----------------------------------------------------------------------------\n"
     ]
    },
    {
     "data": {
      "image/png": "[encoded data removed]",
      "text/plain": [
       "<Figure size 432x288 with 1 Axes>"
      ]
     },
     "metadata": {
      "needs_background": "light"
     },
     "output_type": "display_data"
    },
    {
     "name": "stdout",
     "output_type": "stream",
     "text": [
      "Description of avg_glucose_level\n",
      "----------------------------------------------------------------------------\n",
      "count    25000.000000\n",
      "mean       167.530000\n",
      "std         62.729712\n",
      "min         57.000000\n",
      "25%        113.000000\n",
      "50%        168.000000\n",
      "75%        222.000000\n",
      "max        277.000000\n",
      "Name: avg_glucose_level, dtype: float64 Distribution of avg_glucose_level\n",
      "----------------------------------------------------------------------------\n"
     ]
    },
    {
     "name": "stderr",
     "output_type": "stream",
     "text": [
      "D:\\PGDM\\Anaconda\\lib\\site-packages\\seaborn\\distributions.py:2619: FutureWarning: `distplot` is a deprecated function and will be removed in a future version. Please adapt your code to use either `displot` (a figure-level function with similar flexibility) or `histplot` (an axes-level function for histograms).\n",
      "  warnings.warn(msg, FutureWarning)\n"
     ]
    },
    {
     "data": {
      "image/png": "[encoded data removed]",
      "text/plain": [
       "<Figure size 432x288 with 1 Axes>"
      ]
     },
     "metadata": {
      "needs_background": "light"
     },
     "output_type": "display_data"
    },
    {
     "name": "stdout",
     "output_type": "stream",
     "text": [
      "BoxPlot of avg_glucose_level\n",
      "----------------------------------------------------------------------------\n"
     ]
    },
    {
     "data": {
      "image/png": "[encoded data removed]",
      "text/plain": [
       "<Figure size 432x288 with 1 Axes>"
      ]
     },
     "metadata": {
      "needs_background": "light"
     },
     "output_type": "display_data"
    },
    {
     "name": "stdout",
     "output_type": "stream",
     "text": [
      "Description of bmi\n",
      "----------------------------------------------------------------------------\n",
      "count    25000.000000\n",
      "mean        31.357952\n",
      "std          7.720963\n",
      "min         12.300000\n",
      "25%         26.300000\n",
      "50%         30.500000\n",
      "75%         35.300000\n",
      "max        100.600000\n",
      "Name: bmi, dtype: float64 Distribution of bmi\n",
      "----------------------------------------------------------------------------\n"
     ]
    },
    {
     "name": "stderr",
     "output_type": "stream",
     "text": [
      "D:\\PGDM\\Anaconda\\lib\\site-packages\\seaborn\\distributions.py:2619: FutureWarning: `distplot` is a deprecated function and will be removed in a future version. Please adapt your code to use either `displot` (a figure-level function with similar flexibility) or `histplot` (an axes-level function for histograms).\n",
      "  warnings.warn(msg, FutureWarning)\n"
     ]
    },
    {
     "data": {
      "image/png": "[encoded data removed]",
      "text/plain": [
       "<Figure size 432x288 with 1 Axes>"
      ]
     },
     "metadata": {
      "needs_background": "light"
     },
     "output_type": "display_data"
    },
    {
     "name": "stdout",
     "output_type": "stream",
     "text": [
      "BoxPlot of bmi\n",
      "----------------------------------------------------------------------------\n"
     ]
    },
    {
     "data": {
      "image/png": "[encoded data removed]",
      "text/plain": [
       "<Figure size 432x288 with 1 Axes>"
      ]
     },
     "metadata": {
      "needs_background": "light"
     },
     "output_type": "display_data"
    },
    {
     "name": "stdout",
     "output_type": "stream",
     "text": [
      "Description of weight\n",
      "----------------------------------------------------------------------------\n",
      "count    25000.000000\n",
      "mean        71.610480\n",
      "std          9.325183\n",
      "min         52.000000\n",
      "25%         64.000000\n",
      "50%         72.000000\n",
      "75%         78.000000\n",
      "max         96.000000\n",
      "Name: weight, dtype: float64 Distribution of weight\n",
      "----------------------------------------------------------------------------\n"
     ]
    },
    {
     "name": "stderr",
     "output_type": "stream",
     "text": [
      "D:\\PGDM\\Anaconda\\lib\\site-packages\\seaborn\\distributions.py:2619: FutureWarning: `distplot` is a deprecated function and will be removed in a future version. Please adapt your code to use either `displot` (a figure-level function with similar flexibility) or `histplot` (an axes-level function for histograms).\n",
      "  warnings.warn(msg, FutureWarning)\n"
     ]
    },
    {
     "data": {
      "image/png": "[encoded data removed]",
      "text/plain": [
       "<Figure size 432x288 with 1 Axes>"
      ]
     },
     "metadata": {
      "needs_background": "light"
     },
     "output_type": "display_data"
    },
    {
     "name": "stdout",
     "output_type": "stream",
     "text": [
      "BoxPlot of weight\n",
      "----------------------------------------------------------------------------\n"
     ]
    },
    {
     "data": {
      "image/png": "[encoded data removed]",
      "text/plain": [
       "<Figure size 432x288 with 1 Axes>"
      ]
     },
     "metadata": {
      "needs_background": "light"
     },
     "output_type": "display_data"
    },
    {
     "name": "stdout",
     "output_type": "stream",
     "text": [
      "Description of weight_change_in_last_one_year\n",
      "----------------------------------------------------------------------------\n",
      "count    25000.000000\n",
      "mean         2.517960\n",
      "std          1.690335\n",
      "min          0.000000\n",
      "25%          1.000000\n",
      "50%          3.000000\n",
      "75%          4.000000\n",
      "max          6.000000\n",
      "Name: weight_change_in_last_one_year, dtype: float64 Distribution of weight_change_in_last_one_year\n",
      "----------------------------------------------------------------------------\n"
     ]
    },
    {
     "name": "stderr",
     "output_type": "stream",
     "text": [
      "D:\\PGDM\\Anaconda\\lib\\site-packages\\seaborn\\distributions.py:2619: FutureWarning: `distplot` is a deprecated function and will be removed in a future version. Please adapt your code to use either `displot` (a figure-level function with similar flexibility) or `histplot` (an axes-level function for histograms).\n",
      "  warnings.warn(msg, FutureWarning)\n"
     ]
    },
    {
     "data": {
      "image/png": "[encoded data removed]",
      "text/plain": [
       "<Figure size 432x288 with 1 Axes>"
      ]
     },
     "metadata": {
      "needs_background": "light"
     },
     "output_type": "display_data"
    },
    {
     "name": "stdout",
     "output_type": "stream",
     "text": [
      "BoxPlot of weight_change_in_last_one_year\n",
      "----------------------------------------------------------------------------\n"
     ]
    },
    {
     "data": {
      "image/png": "[encoded data removed]",
      "text/plain": [
       "<Figure size 432x288 with 1 Axes>"
      ]
     },
     "metadata": {
      "needs_background": "light"
     },
     "output_type": "display_data"
    },
    {
     "name": "stdout",
     "output_type": "stream",
     "text": [
      "Description of fat_percentage\n",
      "----------------------------------------------------------------------------\n",
      "count    25000.000000\n",
      "mean        28.812280\n",
      "std          8.632382\n",
      "min         11.000000\n",
      "25%         21.000000\n",
      "50%         31.000000\n",
      "75%         36.000000\n",
      "max         42.000000\n",
      "Name: fat_percentage, dtype: float64 Distribution of fat_percentage\n",
      "----------------------------------------------------------------------------\n"
     ]
    },
    {
     "name": "stderr",
     "output_type": "stream",
     "text": [
      "D:\\PGDM\\Anaconda\\lib\\site-packages\\seaborn\\distributions.py:2619: FutureWarning: `distplot` is a deprecated function and will be removed in a future version. Please adapt your code to use either `displot` (a figure-level function with similar flexibility) or `histplot` (an axes-level function for histograms).\n",
      "  warnings.warn(msg, FutureWarning)\n"
     ]
    },
    {
     "data": {
      "image/png": "[encoded data removed]",
      "text/plain": [
       "<Figure size 432x288 with 1 Axes>"
      ]
     },
     "metadata": {
      "needs_background": "light"
     },
     "output_type": "display_data"
    },
    {
     "name": "stdout",
     "output_type": "stream",
     "text": [
      "BoxPlot of fat_percentage\n",
      "----------------------------------------------------------------------------\n"
     ]
    },
    {
     "data": {
      "image/png": "[encoded data removed]",
      "text/plain": [
       "<Figure size 432x288 with 1 Axes>"
      ]
     },
     "metadata": {
      "needs_background": "light"
     },
     "output_type": "display_data"
    },
    {
     "name": "stdout",
     "output_type": "stream",
     "text": [
      "Description of insurance_cost\n",
      "----------------------------------------------------------------------------\n",
      "count    25000.000000\n",
      "mean     27147.407680\n",
      "std      14323.691832\n",
      "min       2468.000000\n",
      "25%      16042.000000\n",
      "50%      27148.000000\n",
      "75%      37020.000000\n",
      "max      67870.000000\n",
      "Name: insurance_cost, dtype: float64 Distribution of insurance_cost\n",
      "----------------------------------------------------------------------------\n"
     ]
    },
    {
     "name": "stderr",
     "output_type": "stream",
     "text": [
      "D:\\PGDM\\Anaconda\\lib\\site-packages\\seaborn\\distributions.py:2619: FutureWarning: `distplot` is a deprecated function and will be removed in a future version. Please adapt your code to use either `displot` (a figure-level function with similar flexibility) or `histplot` (an axes-level function for histograms).\n",
      "  warnings.warn(msg, FutureWarning)\n"
     ]
    },
    {
     "data": {
      "image/png": "[encoded data removed]",
      "text/plain": [
       "<Figure size 432x288 with 1 Axes>"
      ]
     },
     "metadata": {
      "needs_background": "light"
     },
     "output_type": "display_data"
    },
    {
     "name": "stdout",
     "output_type": "stream",
     "text": [
      "BoxPlot of insurance_cost\n",
      "----------------------------------------------------------------------------\n"
     ]
    },
    {
     "data": {
      "image/png": "[encoded data removed]",
      "text/plain": [
       "<Figure size 432x288 with 1 Axes>"
      ]
     },
     "metadata": {
      "needs_background": "light"
     },
     "output_type": "display_data"
    }
   ],
   "source": [
    "for x in lstnumericcolumns:\n",
    "    univariateAnalysis_numeric(x,20)"
   ]
  },
  {
   "cell_type": "code",
   "execution_count": 23,
   "id": "martial-contest",
   "metadata": {},
   "outputs": [],
   "source": [
    "def univariateAnalysis_category(cat_column):\n",
    "    print(\"Details of \" + cat_column)\n",
    "    print(\"----------------------------------------------------------------\")\n",
    "    print(df_cat[cat_column].value_counts())\n",
    "    plt.figure()\n",
    "    df_cat[cat_column].value_counts().plot.bar(title=\"Frequency Distribution of \" + cat_column)\n",
    "    plt.show()\n",
    "    print(\"       \")"
   ]
  },
  {
   "cell_type": "code",
   "execution_count": 24,
   "id": "prerequisite-prime",
   "metadata": {},
   "outputs": [
    {
     "data": {
      "text/plain": [
       "['years_of_insurance_with_us',\n",
       " 'regular_checkup_lasy_year',\n",
       " 'adventure_sports',\n",
       " 'Occupation',\n",
       " 'visited_doctor_last_1_year',\n",
       " 'cholesterol_level',\n",
       " 'heart_decs_history',\n",
       " 'other_major_decs_history',\n",
       " 'Gender',\n",
       " 'smoking_status',\n",
       " 'Location',\n",
       " 'covered_by_any_other_company',\n",
       " 'Alcohol',\n",
       " 'exercise']"
      ]
     },
     "execution_count": 24,
     "metadata": {},
     "output_type": "execute_result"
    }
   ],
   "source": [
    "df_cat = df.select_dtypes(include = ['object'])\n",
    "lstcatcolumns = list(df_cat.columns.values)\n",
    "lstcatcolumns"
   ]
  },
  {
   "cell_type": "code",
   "execution_count": 25,
   "id": "unsigned-tractor",
   "metadata": {},
   "outputs": [
    {
     "name": "stdout",
     "output_type": "stream",
     "text": [
      "Details of years_of_insurance_with_us\n",
      "----------------------------------------------------------------\n",
      "3    2990\n",
      "8    2970\n",
      "5    2941\n",
      "0    2912\n",
      "7    2873\n",
      "1    2856\n",
      "4    2846\n",
      "6    2804\n",
      "2    1808\n",
      "Name: years_of_insurance_with_us, dtype: int64\n"
     ]
    },
    {
     "data": {
      "image/png": "[encoded data removed]",
      "text/plain": [
       "<Figure size 432x288 with 1 Axes>"
      ]
     },
     "metadata": {
      "needs_background": "light"
     },
     "output_type": "display_data"
    },
    {
     "name": "stdout",
     "output_type": "stream",
     "text": [
      "       \n",
      "Details of regular_checkup_lasy_year\n",
      "----------------------------------------------------------------\n",
      "0    15215\n",
      "1     4644\n",
      "2     2198\n",
      "3     1818\n",
      "4      777\n",
      "5      348\n",
      "Name: regular_checkup_lasy_year, dtype: int64\n"
     ]
    },
    {
     "data": {
      "image/png": "[encoded data removed]",
      "text/plain": [
       "<Figure size 432x288 with 1 Axes>"
      ]
     },
     "metadata": {
      "needs_background": "light"
     },
     "output_type": "display_data"
    },
    {
     "name": "stdout",
     "output_type": "stream",
     "text": [
      "       \n",
      "Details of adventure_sports\n",
      "----------------------------------------------------------------\n",
      "0    22957\n",
      "1     2043\n",
      "Name: adventure_sports, dtype: int64\n"
     ]
    },
    {
     "data": {
      "image/png": "[encoded data removed]",
      "text/plain": [
       "<Figure size 432x288 with 1 Axes>"
      ]
     },
     "metadata": {
      "needs_background": "light"
     },
     "output_type": "display_data"
    },
    {
     "name": "stdout",
     "output_type": "stream",
     "text": [
      "       \n",
      "Details of Occupation\n",
      "----------------------------------------------------------------\n",
      "Student     10169\n",
      "Business    10020\n",
      "Salried      4811\n",
      "Name: Occupation, dtype: int64\n"
     ]
    },
    {
     "data": {
      "image/png": "[encoded data removed]",
      "text/plain": [
       "<Figure size 432x288 with 1 Axes>"
      ]
     },
     "metadata": {
      "needs_background": "light"
     },
     "output_type": "display_data"
    },
    {
     "name": "stdout",
     "output_type": "stream",
     "text": [
      "       \n",
      "Details of visited_doctor_last_1_year\n",
      "----------------------------------------------------------------\n",
      "2     8669\n",
      "3     7094\n",
      "4     6708\n",
      "5     1265\n",
      "6      546\n",
      "1      432\n",
      "7      189\n",
      "8       76\n",
      "9       13\n",
      "10       6\n",
      "0        1\n",
      "12       1\n",
      "Name: visited_doctor_last_1_year, dtype: int64\n"
     ]
    },
    {
     "data": {
      "image/png": "[encoded data removed]",
      "text/plain": [
       "<Figure size 432x288 with 1 Axes>"
      ]
     },
     "metadata": {
      "needs_background": "light"
     },
     "output_type": "display_data"
    },
    {
     "name": "stdout",
     "output_type": "stream",
     "text": [
      "       \n",
      "Details of cholesterol_level\n",
      "----------------------------------------------------------------\n",
      "150 to 175    8763\n",
      "125 to 150    8339\n",
      "200 to 225    2963\n",
      "175 to 200    2881\n",
      "225 to 250    2054\n",
      "Name: cholesterol_level, dtype: int64\n"
     ]
    },
    {
     "data": {
      "image/png": "[encoded data removed]",
      "text/plain": [
       "<Figure size 432x288 with 1 Axes>"
      ]
     },
     "metadata": {
      "needs_background": "light"
     },
     "output_type": "display_data"
    },
    {
     "name": "stdout",
     "output_type": "stream",
     "text": [
      "       \n",
      "Details of heart_decs_history\n",
      "----------------------------------------------------------------\n",
      "0    23634\n",
      "1     1366\n",
      "Name: heart_decs_history, dtype: int64\n"
     ]
    },
    {
     "data": {
      "image/png": "[encoded data removed]",
      "text/plain": [
       "<Figure size 432x288 with 1 Axes>"
      ]
     },
     "metadata": {
      "needs_background": "light"
     },
     "output_type": "display_data"
    },
    {
     "name": "stdout",
     "output_type": "stream",
     "text": [
      "       \n",
      "Details of other_major_decs_history\n",
      "----------------------------------------------------------------\n",
      "0    22546\n",
      "1     2454\n",
      "Name: other_major_decs_history, dtype: int64\n"
     ]
    },
    {
     "data": {
      "image/png": "[encoded data removed]",
      "text/plain": [
       "<Figure size 432x288 with 1 Axes>"
      ]
     },
     "metadata": {
      "needs_background": "light"
     },
     "output_type": "display_data"
    },
    {
     "name": "stdout",
     "output_type": "stream",
     "text": [
      "       \n",
      "Details of Gender\n",
      "----------------------------------------------------------------\n",
      "Male      16422\n",
      "Female     8578\n",
      "Name: Gender, dtype: int64\n"
     ]
    },
    {
     "data": {
      "image/png": "[encoded data removed]",
      "text/plain": [
       "<Figure size 432x288 with 1 Axes>"
      ]
     },
     "metadata": {
      "needs_background": "light"
     },
     "output_type": "display_data"
    },
    {
     "name": "stdout",
     "output_type": "stream",
     "text": [
      "       \n",
      "Details of smoking_status\n",
      "----------------------------------------------------------------\n",
      "never smoked       9249\n",
      "Unknown            7555\n",
      "formerly smoked    4329\n",
      "smokes             3867\n",
      "Name: smoking_status, dtype: int64\n"
     ]
    },
    {
     "data": {
      "image/png": "[encoded data removed]",
      "text/plain": [
       "<Figure size 432x288 with 1 Axes>"
      ]
     },
     "metadata": {
      "needs_background": "light"
     },
     "output_type": "display_data"
    },
    {
     "name": "stdout",
     "output_type": "stream",
     "text": [
      "       \n",
      "Details of Location\n",
      "----------------------------------------------------------------\n",
      "Bangalore      1742\n",
      "Jaipur         1706\n",
      "Bhubaneswar    1704\n",
      "Mangalore      1697\n",
      "Delhi          1680\n",
      "Ahmedabad      1677\n",
      "Guwahati       1672\n",
      "Chennai        1669\n",
      "Kanpur         1664\n",
      "Nagpur         1663\n",
      "Mumbai         1658\n",
      "Lucknow        1637\n",
      "Pune           1622\n",
      "Kolkata        1620\n",
      "Surat          1589\n",
      "Name: Location, dtype: int64\n"
     ]
    },
    {
     "data": {
      "image/png": "[encoded data removed]",
      "text/plain": [
       "<Figure size 432x288 with 1 Axes>"
      ]
     },
     "metadata": {
      "needs_background": "light"
     },
     "output_type": "display_data"
    },
    {
     "name": "stdout",
     "output_type": "stream",
     "text": [
      "       \n",
      "Details of covered_by_any_other_company\n",
      "----------------------------------------------------------------\n",
      "N    17418\n",
      "Y     7582\n",
      "Name: covered_by_any_other_company, dtype: int64\n"
     ]
    },
    {
     "data": {
      "image/png": "[encoded data removed]",
      "text/plain": [
       "<Figure size 432x288 with 1 Axes>"
      ]
     },
     "metadata": {
      "needs_background": "light"
     },
     "output_type": "display_data"
    },
    {
     "name": "stdout",
     "output_type": "stream",
     "text": [
      "       \n",
      "Details of Alcohol\n",
      "----------------------------------------------------------------\n",
      "Rare     13752\n",
      "No        8541\n",
      "Daily     2707\n",
      "Name: Alcohol, dtype: int64\n"
     ]
    },
    {
     "data": {
      "image/png": "[encoded data removed]",
      "text/plain": [
       "<Figure size 432x288 with 1 Axes>"
      ]
     },
     "metadata": {
      "needs_background": "light"
     },
     "output_type": "display_data"
    },
    {
     "name": "stdout",
     "output_type": "stream",
     "text": [
      "       \n",
      "Details of exercise\n",
      "----------------------------------------------------------------\n",
      "Moderate    14638\n",
      "Extreme      5248\n",
      "No           5114\n",
      "Name: exercise, dtype: int64\n"
     ]
    },
    {
     "data": {
      "image/png": "[encoded data removed]",
      "text/plain": [
       "<Figure size 432x288 with 1 Axes>"
      ]
     },
     "metadata": {
      "needs_background": "light"
     },
     "output_type": "display_data"
    },
    {
     "name": "stdout",
     "output_type": "stream",
     "text": [
      "       \n"
     ]
    }
   ],
   "source": [
    "for x in lstcatcolumns:\n",
    "    univariateAnalysis_category(x)"
   ]
  },
  {
   "cell_type": "code",
   "execution_count": 26,
   "id": "dental-concern",
   "metadata": {},
   "outputs": [],
   "source": [
    "corr = df.corr(method='pearson')"
   ]
  },
  {
   "cell_type": "code",
   "execution_count": 27,
   "id": "peaceful-bearing",
   "metadata": {},
   "outputs": [
    {
     "data": {
      "image/png": "[encoded data removed]",
      "text/plain": [
       "<Figure size 720x360 with 2 Axes>"
      ]
     },
     "metadata": {
      "needs_background": "light"
     },
     "output_type": "display_data"
    }
   ],
   "source": [
    "mask = np.triu(np.ones_like(corr, dtype=np.bool)) \n",
    "fig = plt.subplots(figsize=(10, 5))\n",
    "sns.heatmap(df.corr(), annot=True,fmt='.2f',mask=mask)\n",
    "plt.show()"
   ]
  },
  {
   "cell_type": "code",
   "execution_count": 28,
   "id": "sonic-horse",
   "metadata": {},
   "outputs": [
    {
     "data": {
      "image/png": "[encoded data removed]",
      "text/plain": [
       "<Figure size 1440x720 with 1 Axes>"
      ]
     },
     "metadata": {
      "needs_background": "light"
     },
     "output_type": "display_data"
    }
   ],
   "source": [
    "df_num.boxplot(figsize=(20,10))\n",
    "plt.xticks(rotation=90)\n",
    "plt.show()"
   ]
  },
  {
   "cell_type": "markdown",
   "id": "chicken-pierce",
   "metadata": {},
   "source": [
    "There we can see outlier for daily_avergae_steps variable and small outlier for BMI since there is just 1-2 people falling on such categories, we can keep the data whereas for daily_avergae_steps it is quite possible that people who are more active or do extreme exercise can walk more than 10000 steps so we don’t want to lose such valid information by treating them. Hence, we are not treating outliers. It seems all are valid."
   ]
  },
  {
   "cell_type": "code",
   "execution_count": 29,
   "id": "polished-department",
   "metadata": {},
   "outputs": [
    {
     "name": "stdout",
     "output_type": "stream",
     "text": [
      "\n",
      "\n",
      "feature: years_of_insurance_with_us\n",
      "[3, 0, 1, 7, 8, 4, 6, 5, 2]\n",
      "Categories (9, int64): [0, 1, 2, 3, ..., 5, 6, 7, 8]\n",
      "[3 0 1 7 8 4 6 5 2]\n",
      "\n",
      "\n",
      "feature: regular_checkup_lasy_year\n",
      "[1, 0, 4, 3, 2, 5]\n",
      "Categories (6, int64): [0, 1, 2, 3, 4, 5]\n",
      "[1 0 4 3 2 5]\n",
      "\n",
      "\n",
      "feature: adventure_sports\n",
      "[1, 0]\n",
      "Categories (2, int64): [0, 1]\n",
      "[1 0]\n",
      "\n",
      "\n",
      "feature: Occupation\n",
      "['Salried', 'Student', 'Business']\n",
      "Categories (3, object): ['Business', 'Salried', 'Student']\n",
      "[1 2 0]\n",
      "\n",
      "\n",
      "feature: visited_doctor_last_1_year\n",
      "[2, 4, 3, 5, 1, ..., 6, 10, 9, 12, 0]\n",
      "Length: 12\n",
      "Categories (12, int64): [0, 1, 2, 3, ..., 8, 9, 10, 12]\n",
      "[ 2  4  3  5  1  8  7  6 10  9 11  0]\n",
      "\n",
      "\n",
      "feature: cholesterol_level\n",
      "['125 to 150', '150 to 175', '200 to 225', '175 to 200', '225 to 250']\n",
      "Categories (5, object): ['125 to 150', '150 to 175', '175 to 200', '200 to 225', '225 to 250']\n",
      "[0 1 3 2 4]\n",
      "\n",
      "\n",
      "feature: heart_decs_history\n",
      "[1, 0]\n",
      "Categories (2, int64): [0, 1]\n",
      "[1 0]\n",
      "\n",
      "\n",
      "feature: other_major_decs_history\n",
      "[0, 1]\n",
      "Categories (2, int64): [0, 1]\n",
      "[0 1]\n",
      "\n",
      "\n",
      "feature: Gender\n",
      "['Male', 'Female']\n",
      "Categories (2, object): ['Female', 'Male']\n",
      "[1 0]\n",
      "\n",
      "\n",
      "feature: smoking_status\n",
      "['Unknown', 'formerly smoked', 'never smoked', 'smokes']\n",
      "Categories (4, object): ['Unknown', 'formerly smoked', 'never smoked', 'smokes']\n",
      "[0 1 2 3]\n",
      "\n",
      "\n",
      "feature: Location\n",
      "['Chennai', 'Jaipur', 'Bangalore', 'Bhubaneswar', 'Guwahati', ..., 'Mangalore', 'Kolkata', 'Delhi', 'Ahmedabad', 'Lucknow']\n",
      "Length: 15\n",
      "Categories (15, object): ['Ahmedabad', 'Bangalore', 'Bhubaneswar', 'Chennai', ..., 'Mumbai', 'Nagpur', 'Pune', 'Surat']\n",
      "[ 3  6  1  2  5 11 12 14 13  7 10  8  4  0  9]\n",
      "\n",
      "\n",
      "feature: covered_by_any_other_company\n",
      "['N', 'Y']\n",
      "Categories (2, object): ['N', 'Y']\n",
      "[0 1]\n",
      "\n",
      "\n",
      "feature: Alcohol\n",
      "['Rare', 'Daily', 'No']\n",
      "Categories (3, object): ['Daily', 'No', 'Rare']\n",
      "[2 0 1]\n",
      "\n",
      "\n",
      "feature: exercise\n",
      "['Moderate', 'Extreme', 'No']\n",
      "Categories (3, object): ['Extreme', 'Moderate', 'No']\n",
      "[1 0 2]\n"
     ]
    }
   ],
   "source": [
    "for feature in df.columns: \n",
    "    if df[feature].dtype == 'object': \n",
    "        print('\\n')\n",
    "        print('feature:',feature)\n",
    "        print(pd.Categorical(df[feature].unique()))\n",
    "        print(pd.Categorical(df[feature].unique()).codes)\n",
    "        df[feature] = pd.Categorical(df[feature]).codes"
   ]
  },
  {
   "cell_type": "code",
   "execution_count": 30,
   "id": "imposed-content",
   "metadata": {},
   "outputs": [
    {
     "name": "stdout",
     "output_type": "stream",
     "text": [
      "<class 'pandas.core.frame.DataFrame'>\n",
      "RangeIndex: 25000 entries, 0 to 24999\n",
      "Data columns (total 22 columns):\n",
      " #   Column                          Non-Null Count  Dtype  \n",
      "---  ------                          --------------  -----  \n",
      " 0   years_of_insurance_with_us      25000 non-null  int8   \n",
      " 1   regular_checkup_lasy_year       25000 non-null  int8   \n",
      " 2   adventure_sports                25000 non-null  int8   \n",
      " 3   Occupation                      25000 non-null  int8   \n",
      " 4   visited_doctor_last_1_year      25000 non-null  int8   \n",
      " 5   cholesterol_level               25000 non-null  int8   \n",
      " 6   daily_avg_steps                 25000 non-null  int64  \n",
      " 7   age                             25000 non-null  int64  \n",
      " 8   heart_decs_history              25000 non-null  int8   \n",
      " 9   other_major_decs_history        25000 non-null  int8   \n",
      " 10  Gender                          25000 non-null  int8   \n",
      " 11  avg_glucose_level               25000 non-null  int64  \n",
      " 12  bmi                             25000 non-null  float64\n",
      " 13  smoking_status                  25000 non-null  int8   \n",
      " 14  Location                        25000 non-null  int8   \n",
      " 15  weight                          25000 non-null  int64  \n",
      " 16  covered_by_any_other_company    25000 non-null  int8   \n",
      " 17  Alcohol                         25000 non-null  int8   \n",
      " 18  exercise                        25000 non-null  int8   \n",
      " 19  weight_change_in_last_one_year  25000 non-null  int64  \n",
      " 20  fat_percentage                  25000 non-null  int64  \n",
      " 21  insurance_cost                  25000 non-null  int64  \n",
      "dtypes: float64(1), int64(7), int8(14)\n",
      "memory usage: 1.9 MB\n"
     ]
    }
   ],
   "source": [
    "df.info()"
   ]
  },
  {
   "cell_type": "code",
   "execution_count": 31,
   "id": "classified-proposal",
   "metadata": {},
   "outputs": [],
   "source": [
    "df=df.drop(['Location'], axis=1)"
   ]
  },
  {
   "cell_type": "markdown",
   "id": "friendly-paste",
   "metadata": {},
   "source": [
    "### Scaling the data "
   ]
  },
  {
   "cell_type": "code",
   "execution_count": 32,
   "id": "premier-maker",
   "metadata": {},
   "outputs": [
    {
     "data": {
      "text/html": [
       "<div>\n",
       "<style scoped>\n",
       "    .dataframe tbody tr th:only-of-type {\n",
       "        vertical-align: middle;\n",
       "    }\n",
       "\n",
       "    .dataframe tbody tr th {\n",
       "        vertical-align: top;\n",
       "    }\n",
       "\n",
       "    .dataframe thead th {\n",
       "        text-align: right;\n",
       "    }\n",
       "</style>\n",
       "<table border=\"1\" class=\"dataframe\">\n",
       "  <thead>\n",
       "    <tr style=\"text-align: right;\">\n",
       "      <th></th>\n",
       "      <th>years_of_insurance_with_us</th>\n",
       "      <th>regular_checkup_lasy_year</th>\n",
       "      <th>adventure_sports</th>\n",
       "      <th>Occupation</th>\n",
       "      <th>visited_doctor_last_1_year</th>\n",
       "      <th>cholesterol_level</th>\n",
       "      <th>daily_avg_steps</th>\n",
       "      <th>age</th>\n",
       "      <th>heart_decs_history</th>\n",
       "      <th>other_major_decs_history</th>\n",
       "      <th>...</th>\n",
       "      <th>avg_glucose_level</th>\n",
       "      <th>bmi</th>\n",
       "      <th>smoking_status</th>\n",
       "      <th>weight</th>\n",
       "      <th>covered_by_any_other_company</th>\n",
       "      <th>Alcohol</th>\n",
       "      <th>exercise</th>\n",
       "      <th>weight_change_in_last_one_year</th>\n",
       "      <th>fat_percentage</th>\n",
       "      <th>insurance_cost</th>\n",
       "    </tr>\n",
       "  </thead>\n",
       "  <tbody>\n",
       "    <tr>\n",
       "      <th>0</th>\n",
       "      <td>-0.417807</td>\n",
       "      <td>0.188690</td>\n",
       "      <td>3.352150</td>\n",
       "      <td>-0.006632</td>\n",
       "      <td>-0.967419</td>\n",
       "      <td>-1.002742</td>\n",
       "      <td>-0.332228</td>\n",
       "      <td>-1.050360</td>\n",
       "      <td>4.159520</td>\n",
       "      <td>-0.329915</td>\n",
       "      <td>...</td>\n",
       "      <td>-1.124370</td>\n",
       "      <td>-0.020458</td>\n",
       "      <td>-1.284920</td>\n",
       "      <td>-0.494422</td>\n",
       "      <td>-0.659770</td>\n",
       "      <td>0.820197</td>\n",
       "      <td>0.008326</td>\n",
       "      <td>-0.898041</td>\n",
       "      <td>-0.441634</td>\n",
       "      <td>-0.430722</td>\n",
       "    </tr>\n",
       "    <tr>\n",
       "      <th>1</th>\n",
       "      <td>-1.568750</td>\n",
       "      <td>-0.645043</td>\n",
       "      <td>-0.298316</td>\n",
       "      <td>1.106181</td>\n",
       "      <td>0.784898</td>\n",
       "      <td>-0.210186</td>\n",
       "      <td>1.134787</td>\n",
       "      <td>0.315492</td>\n",
       "      <td>-0.240412</td>\n",
       "      <td>-0.329915</td>\n",
       "      <td>...</td>\n",
       "      <td>0.708929</td>\n",
       "      <td>0.368102</td>\n",
       "      <td>-0.351871</td>\n",
       "      <td>-1.459569</td>\n",
       "      <td>-0.659770</td>\n",
       "      <td>0.820197</td>\n",
       "      <td>0.008326</td>\n",
       "      <td>0.285180</td>\n",
       "      <td>-0.209944</td>\n",
       "      <td>-1.464554</td>\n",
       "    </tr>\n",
       "    <tr>\n",
       "      <th>2</th>\n",
       "      <td>-1.185102</td>\n",
       "      <td>-0.645043</td>\n",
       "      <td>-0.298316</td>\n",
       "      <td>-1.119445</td>\n",
       "      <td>0.784898</td>\n",
       "      <td>1.374926</td>\n",
       "      <td>-0.671209</td>\n",
       "      <td>1.433007</td>\n",
       "      <td>-0.240412</td>\n",
       "      <td>-0.329915</td>\n",
       "      <td>...</td>\n",
       "      <td>-0.024391</td>\n",
       "      <td>1.171127</td>\n",
       "      <td>-0.351871</td>\n",
       "      <td>0.149010</td>\n",
       "      <td>-0.659770</td>\n",
       "      <td>-2.118525</td>\n",
       "      <td>-1.545002</td>\n",
       "      <td>-1.489652</td>\n",
       "      <td>0.369282</td>\n",
       "      <td>0.086194</td>\n",
       "    </tr>\n",
       "    <tr>\n",
       "      <th>3</th>\n",
       "      <td>1.116783</td>\n",
       "      <td>2.689890</td>\n",
       "      <td>-0.298316</td>\n",
       "      <td>-1.119445</td>\n",
       "      <td>-0.967419</td>\n",
       "      <td>0.582370</td>\n",
       "      <td>0.947731</td>\n",
       "      <td>0.377576</td>\n",
       "      <td>-0.240412</td>\n",
       "      <td>-0.329915</td>\n",
       "      <td>...</td>\n",
       "      <td>-0.933069</td>\n",
       "      <td>-1.095475</td>\n",
       "      <td>-1.284920</td>\n",
       "      <td>-0.065467</td>\n",
       "      <td>1.515679</td>\n",
       "      <td>0.820197</td>\n",
       "      <td>1.561654</td>\n",
       "      <td>0.285180</td>\n",
       "      <td>0.948508</td>\n",
       "      <td>0.000041</td>\n",
       "    </tr>\n",
       "    <tr>\n",
       "      <th>4</th>\n",
       "      <td>-0.417807</td>\n",
       "      <td>0.188690</td>\n",
       "      <td>-0.298316</td>\n",
       "      <td>1.106181</td>\n",
       "      <td>-0.967419</td>\n",
       "      <td>-0.210186</td>\n",
       "      <td>-0.263863</td>\n",
       "      <td>-0.057013</td>\n",
       "      <td>-0.240412</td>\n",
       "      <td>3.031081</td>\n",
       "      <td>...</td>\n",
       "      <td>-0.789594</td>\n",
       "      <td>-0.629202</td>\n",
       "      <td>0.581177</td>\n",
       "      <td>0.256249</td>\n",
       "      <td>-0.659770</td>\n",
       "      <td>-0.649164</td>\n",
       "      <td>-1.545002</td>\n",
       "      <td>-1.489652</td>\n",
       "      <td>0.600972</td>\n",
       "      <td>0.172347</td>\n",
       "    </tr>\n",
       "  </tbody>\n",
       "</table>\n",
       "<p>5 rows × 21 columns</p>\n",
       "</div>"
      ],
      "text/plain": [
       "   years_of_insurance_with_us  regular_checkup_lasy_year  adventure_sports  \\\n",
       "0                   -0.417807                   0.188690          3.352150   \n",
       "1                   -1.568750                  -0.645043         -0.298316   \n",
       "2                   -1.185102                  -0.645043         -0.298316   \n",
       "3                    1.116783                   2.689890         -0.298316   \n",
       "4                   -0.417807                   0.188690         -0.298316   \n",
       "\n",
       "   Occupation  visited_doctor_last_1_year  cholesterol_level  daily_avg_steps  \\\n",
       "0   -0.006632                   -0.967419          -1.002742        -0.332228   \n",
       "1    1.106181                    0.784898          -0.210186         1.134787   \n",
       "2   -1.119445                    0.784898           1.374926        -0.671209   \n",
       "3   -1.119445                   -0.967419           0.582370         0.947731   \n",
       "4    1.106181                   -0.967419          -0.210186        -0.263863   \n",
       "\n",
       "        age  heart_decs_history  other_major_decs_history  ...  \\\n",
       "0 -1.050360            4.159520                 -0.329915  ...   \n",
       "1  0.315492           -0.240412                 -0.329915  ...   \n",
       "2  1.433007           -0.240412                 -0.329915  ...   \n",
       "3  0.377576           -0.240412                 -0.329915  ...   \n",
       "4 -0.057013           -0.240412                  3.031081  ...   \n",
       "\n",
       "   avg_glucose_level       bmi  smoking_status    weight  \\\n",
       "0          -1.124370 -0.020458       -1.284920 -0.494422   \n",
       "1           0.708929  0.368102       -0.351871 -1.459569   \n",
       "2          -0.024391  1.171127       -0.351871  0.149010   \n",
       "3          -0.933069 -1.095475       -1.284920 -0.065467   \n",
       "4          -0.789594 -0.629202        0.581177  0.256249   \n",
       "\n",
       "   covered_by_any_other_company   Alcohol  exercise  \\\n",
       "0                     -0.659770  0.820197  0.008326   \n",
       "1                     -0.659770  0.820197  0.008326   \n",
       "2                     -0.659770 -2.118525 -1.545002   \n",
       "3                      1.515679  0.820197  1.561654   \n",
       "4                     -0.659770 -0.649164 -1.545002   \n",
       "\n",
       "   weight_change_in_last_one_year  fat_percentage  insurance_cost  \n",
       "0                       -0.898041       -0.441634       -0.430722  \n",
       "1                        0.285180       -0.209944       -1.464554  \n",
       "2                       -1.489652        0.369282        0.086194  \n",
       "3                        0.285180        0.948508        0.000041  \n",
       "4                       -1.489652        0.600972        0.172347  \n",
       "\n",
       "[5 rows x 21 columns]"
      ]
     },
     "execution_count": 32,
     "metadata": {},
     "output_type": "execute_result"
    }
   ],
   "source": [
    "from scipy.stats import zscore\n",
    "df_scaling=df.apply(zscore)\n",
    "df_scaling.head()"
   ]
  },
  {
   "cell_type": "code",
   "execution_count": 33,
   "id": "right-kuwait",
   "metadata": {},
   "outputs": [
    {
     "name": "stdout",
     "output_type": "stream",
     "text": [
      "<class 'pandas.core.frame.DataFrame'>\n",
      "RangeIndex: 25000 entries, 0 to 24999\n",
      "Data columns (total 21 columns):\n",
      " #   Column                          Non-Null Count  Dtype  \n",
      "---  ------                          --------------  -----  \n",
      " 0   years_of_insurance_with_us      25000 non-null  float64\n",
      " 1   regular_checkup_lasy_year       25000 non-null  float64\n",
      " 2   adventure_sports                25000 non-null  float64\n",
      " 3   Occupation                      25000 non-null  float64\n",
      " 4   visited_doctor_last_1_year      25000 non-null  float64\n",
      " 5   cholesterol_level               25000 non-null  float64\n",
      " 6   daily_avg_steps                 25000 non-null  float64\n",
      " 7   age                             25000 non-null  float64\n",
      " 8   heart_decs_history              25000 non-null  float64\n",
      " 9   other_major_decs_history        25000 non-null  float64\n",
      " 10  Gender                          25000 non-null  float64\n",
      " 11  avg_glucose_level               25000 non-null  float64\n",
      " 12  bmi                             25000 non-null  float64\n",
      " 13  smoking_status                  25000 non-null  float64\n",
      " 14  weight                          25000 non-null  float64\n",
      " 15  covered_by_any_other_company    25000 non-null  float64\n",
      " 16  Alcohol                         25000 non-null  float64\n",
      " 17  exercise                        25000 non-null  float64\n",
      " 18  weight_change_in_last_one_year  25000 non-null  float64\n",
      " 19  fat_percentage                  25000 non-null  float64\n",
      " 20  insurance_cost                  25000 non-null  float64\n",
      "dtypes: float64(21)\n",
      "memory usage: 4.0 MB\n"
     ]
    }
   ],
   "source": [
    "df_scaling.info()"
   ]
  },
  {
   "cell_type": "markdown",
   "id": "monthly-accounting",
   "metadata": {},
   "source": [
    "### saving final dataset for model building"
   ]
  },
  {
   "cell_type": "code",
   "execution_count": 42,
   "id": "finished-national",
   "metadata": {},
   "outputs": [],
   "source": [
    "df_scaling.to_csv('processed_data.csv', index=False)"
   ]
  },
  {
   "cell_type": "markdown",
   "id": "contrary-moisture",
   "metadata": {},
   "source": [
    "### further Analysis by clustering the data"
   ]
  },
  {
   "cell_type": "code",
   "execution_count": 35,
   "id": "transsexual-moldova",
   "metadata": {},
   "outputs": [],
   "source": [
    "from sklearn.cluster import KMeans"
   ]
  },
  {
   "cell_type": "code",
   "execution_count": 36,
   "id": "lined-rehabilitation",
   "metadata": {},
   "outputs": [],
   "source": [
    "# Create K Means cluster and store the result in the object k_means\n",
    "k_means = KMeans(n_clusters = 3,random_state=1) "
   ]
  },
  {
   "cell_type": "code",
   "execution_count": 37,
   "id": "cutting-pricing",
   "metadata": {},
   "outputs": [
    {
     "data": {
      "text/plain": [
       "KMeans(n_clusters=3, random_state=1)"
      ]
     },
     "execution_count": 37,
     "metadata": {},
     "output_type": "execute_result"
    }
   ],
   "source": [
    "k_means.fit(df_scaling)"
   ]
  },
  {
   "cell_type": "code",
   "execution_count": 38,
   "id": "thermal-discrimination",
   "metadata": {},
   "outputs": [
    {
     "data": {
      "text/plain": [
       "array([2, 2, 0, ..., 1, 0, 2])"
      ]
     },
     "execution_count": 38,
     "metadata": {},
     "output_type": "execute_result"
    }
   ],
   "source": [
    "# Get the labels\n",
    "k_means.labels_"
   ]
  },
  {
   "cell_type": "code",
   "execution_count": 40,
   "id": "published-hampton",
   "metadata": {},
   "outputs": [
    {
     "data": {
      "text/html": [
       "<div>\n",
       "<style scoped>\n",
       "    .dataframe tbody tr th:only-of-type {\n",
       "        vertical-align: middle;\n",
       "    }\n",
       "\n",
       "    .dataframe tbody tr th {\n",
       "        vertical-align: top;\n",
       "    }\n",
       "\n",
       "    .dataframe thead th {\n",
       "        text-align: right;\n",
       "    }\n",
       "</style>\n",
       "<table border=\"1\" class=\"dataframe\">\n",
       "  <thead>\n",
       "    <tr style=\"text-align: right;\">\n",
       "      <th></th>\n",
       "      <th>years_of_insurance_with_us</th>\n",
       "      <th>regular_checkup_lasy_year</th>\n",
       "      <th>adventure_sports</th>\n",
       "      <th>Occupation</th>\n",
       "      <th>visited_doctor_last_1_year</th>\n",
       "      <th>cholesterol_level</th>\n",
       "      <th>daily_avg_steps</th>\n",
       "      <th>age</th>\n",
       "      <th>heart_decs_history</th>\n",
       "      <th>other_major_decs_history</th>\n",
       "      <th>...</th>\n",
       "      <th>bmi</th>\n",
       "      <th>smoking_status</th>\n",
       "      <th>weight</th>\n",
       "      <th>covered_by_any_other_company</th>\n",
       "      <th>Alcohol</th>\n",
       "      <th>exercise</th>\n",
       "      <th>weight_change_in_last_one_year</th>\n",
       "      <th>fat_percentage</th>\n",
       "      <th>insurance_cost</th>\n",
       "      <th>Clus_kmeans3</th>\n",
       "    </tr>\n",
       "  </thead>\n",
       "  <tbody>\n",
       "    <tr>\n",
       "      <th>0</th>\n",
       "      <td>3</td>\n",
       "      <td>1</td>\n",
       "      <td>1</td>\n",
       "      <td>1</td>\n",
       "      <td>2</td>\n",
       "      <td>0</td>\n",
       "      <td>4866</td>\n",
       "      <td>28</td>\n",
       "      <td>1</td>\n",
       "      <td>0</td>\n",
       "      <td>...</td>\n",
       "      <td>31.2</td>\n",
       "      <td>0</td>\n",
       "      <td>67</td>\n",
       "      <td>0</td>\n",
       "      <td>2</td>\n",
       "      <td>1</td>\n",
       "      <td>1</td>\n",
       "      <td>25</td>\n",
       "      <td>20978</td>\n",
       "      <td>2</td>\n",
       "    </tr>\n",
       "    <tr>\n",
       "      <th>1</th>\n",
       "      <td>0</td>\n",
       "      <td>0</td>\n",
       "      <td>0</td>\n",
       "      <td>2</td>\n",
       "      <td>4</td>\n",
       "      <td>1</td>\n",
       "      <td>6411</td>\n",
       "      <td>50</td>\n",
       "      <td>0</td>\n",
       "      <td>0</td>\n",
       "      <td>...</td>\n",
       "      <td>34.2</td>\n",
       "      <td>1</td>\n",
       "      <td>58</td>\n",
       "      <td>0</td>\n",
       "      <td>2</td>\n",
       "      <td>1</td>\n",
       "      <td>3</td>\n",
       "      <td>27</td>\n",
       "      <td>6170</td>\n",
       "      <td>2</td>\n",
       "    </tr>\n",
       "    <tr>\n",
       "      <th>2</th>\n",
       "      <td>1</td>\n",
       "      <td>0</td>\n",
       "      <td>0</td>\n",
       "      <td>0</td>\n",
       "      <td>4</td>\n",
       "      <td>3</td>\n",
       "      <td>4509</td>\n",
       "      <td>68</td>\n",
       "      <td>0</td>\n",
       "      <td>0</td>\n",
       "      <td>...</td>\n",
       "      <td>40.4</td>\n",
       "      <td>1</td>\n",
       "      <td>73</td>\n",
       "      <td>0</td>\n",
       "      <td>0</td>\n",
       "      <td>0</td>\n",
       "      <td>0</td>\n",
       "      <td>32</td>\n",
       "      <td>28382</td>\n",
       "      <td>0</td>\n",
       "    </tr>\n",
       "    <tr>\n",
       "      <th>3</th>\n",
       "      <td>7</td>\n",
       "      <td>4</td>\n",
       "      <td>0</td>\n",
       "      <td>0</td>\n",
       "      <td>2</td>\n",
       "      <td>2</td>\n",
       "      <td>6214</td>\n",
       "      <td>51</td>\n",
       "      <td>0</td>\n",
       "      <td>0</td>\n",
       "      <td>...</td>\n",
       "      <td>22.9</td>\n",
       "      <td>0</td>\n",
       "      <td>71</td>\n",
       "      <td>1</td>\n",
       "      <td>2</td>\n",
       "      <td>2</td>\n",
       "      <td>3</td>\n",
       "      <td>37</td>\n",
       "      <td>27148</td>\n",
       "      <td>2</td>\n",
       "    </tr>\n",
       "    <tr>\n",
       "      <th>4</th>\n",
       "      <td>3</td>\n",
       "      <td>1</td>\n",
       "      <td>0</td>\n",
       "      <td>2</td>\n",
       "      <td>2</td>\n",
       "      <td>1</td>\n",
       "      <td>4938</td>\n",
       "      <td>44</td>\n",
       "      <td>0</td>\n",
       "      <td>1</td>\n",
       "      <td>...</td>\n",
       "      <td>26.5</td>\n",
       "      <td>2</td>\n",
       "      <td>74</td>\n",
       "      <td>0</td>\n",
       "      <td>1</td>\n",
       "      <td>0</td>\n",
       "      <td>0</td>\n",
       "      <td>34</td>\n",
       "      <td>29616</td>\n",
       "      <td>1</td>\n",
       "    </tr>\n",
       "  </tbody>\n",
       "</table>\n",
       "<p>5 rows × 22 columns</p>\n",
       "</div>"
      ],
      "text/plain": [
       "   years_of_insurance_with_us  regular_checkup_lasy_year  adventure_sports  \\\n",
       "0                           3                          1                 1   \n",
       "1                           0                          0                 0   \n",
       "2                           1                          0                 0   \n",
       "3                           7                          4                 0   \n",
       "4                           3                          1                 0   \n",
       "\n",
       "   Occupation  visited_doctor_last_1_year  cholesterol_level  daily_avg_steps  \\\n",
       "0           1                           2                  0             4866   \n",
       "1           2                           4                  1             6411   \n",
       "2           0                           4                  3             4509   \n",
       "3           0                           2                  2             6214   \n",
       "4           2                           2                  1             4938   \n",
       "\n",
       "   age  heart_decs_history  other_major_decs_history  ...   bmi  \\\n",
       "0   28                   1                         0  ...  31.2   \n",
       "1   50                   0                         0  ...  34.2   \n",
       "2   68                   0                         0  ...  40.4   \n",
       "3   51                   0                         0  ...  22.9   \n",
       "4   44                   0                         1  ...  26.5   \n",
       "\n",
       "   smoking_status  weight  covered_by_any_other_company  Alcohol  exercise  \\\n",
       "0               0      67                             0        2         1   \n",
       "1               1      58                             0        2         1   \n",
       "2               1      73                             0        0         0   \n",
       "3               0      71                             1        2         2   \n",
       "4               2      74                             0        1         0   \n",
       "\n",
       "   weight_change_in_last_one_year  fat_percentage  insurance_cost  \\\n",
       "0                               1              25           20978   \n",
       "1                               3              27            6170   \n",
       "2                               0              32           28382   \n",
       "3                               3              37           27148   \n",
       "4                               0              34           29616   \n",
       "\n",
       "   Clus_kmeans3  \n",
       "0             2  \n",
       "1             2  \n",
       "2             0  \n",
       "3             2  \n",
       "4             1  \n",
       "\n",
       "[5 rows x 22 columns]"
      ]
     },
     "execution_count": 40,
     "metadata": {},
     "output_type": "execute_result"
    }
   ],
   "source": [
    "df[\"Clus_kmeans3\"] = k_means.labels_\n",
    "df.head()"
   ]
  }
 ],
 "metadata": {
  "kernelspec": {
   "display_name": "Python 3",
   "language": "python",
   "name": "python3"
  },
  "language_info": {
   "codemirror_mode": {
    "name": "ipython",
    "version": 3
   },
   "file_extension": ".py",
   "mimetype": "text/x-python",
   "name": "python",
   "nbconvert_exporter": "python",
   "pygments_lexer": "ipython3",
   "version": "3.8.8"
  }
 },
 "nbformat": 4,
 "nbformat_minor": 5
}
